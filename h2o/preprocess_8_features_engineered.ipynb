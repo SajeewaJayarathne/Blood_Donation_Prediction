{
 "cells": [
  {
   "cell_type": "code",
   "execution_count": 47,
   "metadata": {},
   "outputs": [],
   "source": [
    "# Importing the libraries\n",
    "import pandas as pd\n",
    "from math import log1p\n",
    "import numpy as np\n",
    "%timeit"
   ]
  },
  {
   "cell_type": "code",
   "execution_count": 39,
   "metadata": {},
   "outputs": [],
   "source": [
    "#load data\n",
    "train_df = pd.read_csv('data/train_features.csv')\n",
    "test_df = pd.read_csv('data/test_data.csv')\n",
    "\n",
    "train_df.columns = ['ID', 'mon_since_last', 'num_donations', 'tot_vol', 'mon_since_first', 'donated']\n",
    "test_df.columns = ['ID', 'mon_since_last', 'num_donations', 'tot_vol', 'mon_since_first']"
   ]
  },
  {
   "cell_type": "code",
   "execution_count": 40,
   "metadata": {},
   "outputs": [],
   "source": [
    "#preprocessing\n",
    "ids = test_df['ID']\n",
    "train_df.drop('ID', axis=1, inplace=True)\n",
    "test_df.drop('ID', axis=1, inplace=True)\n",
    "\n",
    "train_df.drop('tot_vol', axis=1, inplace=True)\n",
    "test_df.drop('tot_vol', axis=1, inplace=True)"
   ]
  },
  {
   "cell_type": "code",
   "execution_count": 41,
   "metadata": {},
   "outputs": [],
   "source": [
    "#feature Engineering\n",
    "\n",
    "train_df['log_difference'] = train_df.mon_since_first - train_df.mon_since_last\n",
    "train_df['log_donation_period'] = train_df.num_donations / train_df.mon_since_first\n",
    "train_df['log_ratio'] = train_df.mon_since_last / train_df.mon_since_first\n",
    "\n",
    "test_df['log_difference'] = test_df.mon_since_first - test_df.mon_since_last\n",
    "test_df['log_donation_period'] = test_df.num_donations / test_df.mon_since_first\n",
    "test_df['log_ratio'] = test_df.mon_since_last / test_df.mon_since_first"
   ]
  },
  {
   "cell_type": "code",
   "execution_count": 43,
   "metadata": {},
   "outputs": [
    {
     "name": "stdout",
     "output_type": "stream",
     "text": [
      "   mon_since_last  num_donations  mon_since_first  donated  log_difference  \\\n",
      "0               2             50               98        1        1.718240   \n",
      "1               0             13               28        1        1.474144   \n",
      "2               1             16               35        1        1.516302   \n",
      "3               2             20               45        1        1.565317   \n",
      "4               1             24               77        0        1.675938   \n",
      "5               4              4                4        0        0.000000   \n",
      "6               2              7               14        1        1.271150   \n",
      "7               1             12               35        0        1.516302   \n",
      "8               5             46               98        1        1.712589   \n",
      "9               0              3                4        0        0.959135   \n",
      "\n",
      "   log_donation_period  log_ratio  \n",
      "0             0.345180   0.020001  \n",
      "1             0.323074   0.000000  \n",
      "2             0.319528   0.027781  \n",
      "3             0.313149   0.042566  \n",
      "4             0.240052   0.012821  \n",
      "5             0.526589   0.526589  \n",
      "6             0.340368   0.125338  \n",
      "7             0.258356   0.027781  \n",
      "8             0.325589   0.048563  \n",
      "9             0.444440   0.000000  \n",
      "\n",
      "\n",
      "   mon_since_last  num_donations  mon_since_first  log_difference  \\\n",
      "0               2             12               52        1.595709   \n",
      "1              21              7               38        1.358505   \n",
      "2               4              1                4        0.000000   \n",
      "3              11             11               38        1.466077   \n",
      "4               4             12               34        1.489299   \n",
      "5               3             21               42        1.545194   \n",
      "6               4              2                4        0.000000   \n",
      "7              14              1               14        0.000000   \n",
      "8              23              2               87        1.643721   \n",
      "9              14              4               64        1.595709   \n",
      "\n",
      "   log_donation_period  log_ratio  \n",
      "0             0.188668   0.037046  \n",
      "1             0.156214   0.364609  \n",
      "2             0.201424   0.526589  \n",
      "3             0.226525   0.226525  \n",
      "4             0.264117   0.105464  \n",
      "5             0.340368   0.066717  \n",
      "6             0.340368   0.526589  \n",
      "7             0.066717   0.526589  \n",
      "8             0.022474   0.210725  \n",
      "9             0.058858   0.180508  \n"
     ]
    }
   ],
   "source": [
    "log_difference_train=[]\n",
    "log_difference_test=[]\n",
    "\n",
    "for i in train_df.log_difference:\n",
    "    log_difference_train.append(log1p(i))\n",
    "\n",
    "train_df['log_difference'] = log_difference_train\n",
    "\n",
    "for i in test_df.log_difference:\n",
    "    log_difference_test.append(log1p(i))\n",
    "\n",
    "test_df['log_difference'] = log_difference_test\n",
    "\n",
    "\n",
    "log_donation_period_train=[]\n",
    "log_donation_period_test=[]\n",
    "\n",
    "for i in train_df.log_donation_period:\n",
    "    log_donation_period_train.append(log1p(i))\n",
    "\n",
    "train_df['log_donation_period'] = log_donation_period_train\n",
    "\n",
    "for i in test_df.log_donation_period:\n",
    "    log_donation_period_test.append(log1p(i))\n",
    "\n",
    "test_df['log_donation_period'] = log_donation_period_test\n",
    "\n",
    "\n",
    "log_ratio_train=[]\n",
    "log_ratio_test=[]\n",
    "\n",
    "for i in train_df.log_ratio:\n",
    "    log_ratio_train.append(log1p(i))\n",
    "\n",
    "train_df['log_ratio'] = log_ratio_train\n",
    "\n",
    "for i in test_df.log_ratio:\n",
    "    log_ratio_test.append(log1p(i))\n",
    "\n",
    "test_df['log_ratio'] = log_ratio_test\n",
    "\n",
    "print train_df.head(10)\n",
    "print \"\\n\"\n",
    "print test_df.head(10)"
   ]
  },
  {
   "cell_type": "code",
   "execution_count": 54,
   "metadata": {},
   "outputs": [],
   "source": [
    "train_df['old_good_donor'] = np.where(np.logical_and(train_df['mon_since_first']>= 24, train_df['mon_since_last']<=3), 1, 0)\n",
    "train_df['old_bad_donor'] = np.where(np.logical_and(train_df['mon_since_first']>= 24, train_df['mon_since_last']>=5), 1, 0)\n",
    "train_df['good_donor'] = np.where(train_df['mon_since_last']<=2, 1, 0)\n",
    "train_df['bad_donor'] = np.where(train_df['mon_since_last']>=5, 1, 0)\n",
    "train_df['quitted'] = np.where(np.logical_and(train_df['mon_since_last']>= 12, train_df['num_donations']<=3), 1, 0)\n"
   ]
  },
  {
   "cell_type": "code",
   "execution_count": 57,
   "metadata": {},
   "outputs": [],
   "source": [
    "test_df['old_good_donor'] = np.where(np.logical_and(test_df['mon_since_first']>= 24, test_df['mon_since_last']<=3), 1, 0)\n",
    "test_df['old_bad_donor'] = np.where(np.logical_and(test_df['mon_since_first']>= 24, test_df['mon_since_last']>=5), 1, 0)\n",
    "test_df['good_donor'] = np.where(test_df['mon_since_last']<=2, 1, 0)\n",
    "test_df['bad_donor'] = np.where(test_df['mon_since_last']>=5, 1, 0)\n",
    "test_df['quitted'] = np.where(np.logical_and(test_df['mon_since_last']>= 12, test_df['num_donations']<=3), 1, 0)"
   ]
  },
  {
   "cell_type": "code",
   "execution_count": null,
   "metadata": {},
   "outputs": [],
   "source": []
  },
  {
   "cell_type": "code",
   "execution_count": 58,
   "metadata": {},
   "outputs": [],
   "source": [
    "train_df.to_csv('data/train_preprocess_feature_engineering.csv', index=False)\n",
    "test_df.to_csv('data/test_preprocess_feature_engineering.csv', index=False)"
   ]
  },
  {
   "cell_type": "code",
   "execution_count": 59,
   "metadata": {},
   "outputs": [
    {
     "data": {
      "text/plain": [
       "200"
      ]
     },
     "execution_count": 59,
     "metadata": {},
     "output_type": "execute_result"
    }
   ],
   "source": [
    "len(train_df.donated[0:200])"
   ]
  }
 ],
 "metadata": {
  "kernelspec": {
   "display_name": "Python 2",
   "language": "python",
   "name": "python2"
  },
  "language_info": {
   "codemirror_mode": {
    "name": "ipython",
    "version": 2
   },
   "file_extension": ".py",
   "mimetype": "text/x-python",
   "name": "python",
   "nbconvert_exporter": "python",
   "pygments_lexer": "ipython2",
   "version": "2.7.15"
  }
 },
 "nbformat": 4,
 "nbformat_minor": 2
}
