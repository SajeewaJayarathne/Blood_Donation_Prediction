{
 "cells": [
  {
   "cell_type": "code",
   "execution_count": 3,
   "metadata": {},
   "outputs": [
    {
     "name": "stdout",
     "output_type": "stream",
     "text": [
      "Checking whether there is an H2O instance running at http://localhost:54321..... not found.\n",
      "Attempting to start a local H2O server...\n",
      "  Java Version: openjdk version \"1.8.0_171\"; OpenJDK Runtime Environment (build 1.8.0_171-8u171-b11-0ubuntu0.18.04.1-b11); OpenJDK 64-Bit Server VM (build 25.171-b11, mixed mode)\n",
      "  Starting server from /home/sajeewa/anaconda2/lib/python2.7/site-packages/h2o/backend/bin/h2o.jar\n",
      "  Ice root: /tmp/tmpJifc_g\n",
      "  JVM stdout: /tmp/tmpJifc_g/h2o_sajeewa_started_from_python.out\n",
      "  JVM stderr: /tmp/tmpJifc_g/h2o_sajeewa_started_from_python.err\n",
      "  Server is running at http://127.0.0.1:54321\n",
      "Connecting to H2O server at http://127.0.0.1:54321... successful.\n"
     ]
    },
    {
     "data": {
      "text/html": [
       "<div style=\"overflow:auto\"><table style=\"width:50%\"><tr><td>H2O cluster uptime:</td>\n",
       "<td>01 secs</td></tr>\n",
       "<tr><td>H2O cluster timezone:</td>\n",
       "<td>Asia/Colombo</td></tr>\n",
       "<tr><td>H2O data parsing timezone:</td>\n",
       "<td>UTC</td></tr>\n",
       "<tr><td>H2O cluster version:</td>\n",
       "<td>3.18.0.11</td></tr>\n",
       "<tr><td>H2O cluster version age:</td>\n",
       "<td>2 months and 2 days </td></tr>\n",
       "<tr><td>H2O cluster name:</td>\n",
       "<td>H2O_from_python_sajeewa_ykd1d6</td></tr>\n",
       "<tr><td>H2O cluster total nodes:</td>\n",
       "<td>1</td></tr>\n",
       "<tr><td>H2O cluster free memory:</td>\n",
       "<td>2.158 Gb</td></tr>\n",
       "<tr><td>H2O cluster total cores:</td>\n",
       "<td>8</td></tr>\n",
       "<tr><td>H2O cluster allowed cores:</td>\n",
       "<td>8</td></tr>\n",
       "<tr><td>H2O cluster status:</td>\n",
       "<td>accepting new members, healthy</td></tr>\n",
       "<tr><td>H2O connection url:</td>\n",
       "<td>http://127.0.0.1:54321</td></tr>\n",
       "<tr><td>H2O connection proxy:</td>\n",
       "<td>None</td></tr>\n",
       "<tr><td>H2O internal security:</td>\n",
       "<td>False</td></tr>\n",
       "<tr><td>H2O API Extensions:</td>\n",
       "<td>XGBoost, Algos, AutoML, Core V3, Core V4</td></tr>\n",
       "<tr><td>Python version:</td>\n",
       "<td>2.7.15 final</td></tr></table></div>"
      ],
      "text/plain": [
       "--------------------------  ----------------------------------------\n",
       "H2O cluster uptime:         01 secs\n",
       "H2O cluster timezone:       Asia/Colombo\n",
       "H2O data parsing timezone:  UTC\n",
       "H2O cluster version:        3.18.0.11\n",
       "H2O cluster version age:    2 months and 2 days\n",
       "H2O cluster name:           H2O_from_python_sajeewa_ykd1d6\n",
       "H2O cluster total nodes:    1\n",
       "H2O cluster free memory:    2.158 Gb\n",
       "H2O cluster total cores:    8\n",
       "H2O cluster allowed cores:  8\n",
       "H2O cluster status:         accepting new members, healthy\n",
       "H2O connection url:         http://127.0.0.1:54321\n",
       "H2O connection proxy:\n",
       "H2O internal security:      False\n",
       "H2O API Extensions:         XGBoost, Algos, AutoML, Core V3, Core V4\n",
       "Python version:             2.7.15 final\n",
       "--------------------------  ----------------------------------------"
      ]
     },
     "metadata": {},
     "output_type": "display_data"
    }
   ],
   "source": [
    "import h2o\n",
    "h2o.init()"
   ]
  },
  {
   "cell_type": "code",
   "execution_count": 12,
   "metadata": {},
   "outputs": [],
   "source": [
    "from h2o.estimators.glm import H2OGeneralizedLinearEstimator as glm\n",
    "from builtins import range"
   ]
  },
  {
   "cell_type": "code",
   "execution_count": 31,
   "metadata": {},
   "outputs": [
    {
     "name": "stdout",
     "output_type": "stream",
     "text": [
      "Parse progress: |█████████████████████████████████████████████████████████| 100%\n"
     ]
    }
   ],
   "source": [
    "train = h2o.import_file('data/train_features_preprocessed.csv')\n",
    "# train['donated'] = train['donated'].asfactor()"
   ]
  },
  {
   "cell_type": "code",
   "execution_count": 32,
   "metadata": {},
   "outputs": [],
   "source": [
    "predictors = [\"mon_since_last\", \"num_donations\", \"mon_since_first\", \"num_donations_per_month\", \"tenure_ratio\"]\n",
    "response_col = \"donated\""
   ]
  },
  {
   "cell_type": "code",
   "execution_count": 33,
   "metadata": {
    "scrolled": true
   },
   "outputs": [
    {
     "name": "stdout",
     "output_type": "stream",
     "text": [
      "glm Model Build progress: |███████████████████████████████████████████████| 100%\n",
      "(0.08443529132068783, ' =?= ', 0.08443529132074679)\n",
      "glm Model Build progress: |███████████████████████████████████████████████| 100%\n",
      "0\n",
      "0\n",
      "0.0\n",
      "0.0\n",
      "glm Model Build progress: |███████████████████████████████████████████████| 100%\n",
      "1.03761443881e-12\n",
      "9.10965747281e-13\n",
      "0.00695075914382\n",
      "0.00695075914365\n",
      "glm Model Build progress: |███████████████████████████████████████████████| 100%\n",
      "8.12801120259e-05\n",
      "1.27601000437e-05\n",
      "0.0152130186707\n",
      "0.0152169273414\n",
      "glm Model Build progress: |███████████████████████████████████████████████| 100%\n",
      "6.21253590616e-05\n",
      "1.42720506143e-05\n",
      "0.0263779141667\n",
      "0.026379226293\n",
      "glm Model Build progress: |███████████████████████████████████████████████| 100%\n",
      "0.000204798209794\n",
      "8.16489928168e-05\n",
      "0.0378245733398\n",
      "0.0378341938975\n",
      "glm Model Build progress: |███████████████████████████████████████████████| 100%\n",
      "0.000242474469544\n",
      "0.000127080152543\n",
      "0.048185390992\n",
      "0.0481990827489\n",
      "glm Model Build progress: |███████████████████████████████████████████████| 100%\n",
      "8.45167031095e-05\n",
      "3.89946866133e-05\n",
      "0.0573540218475\n",
      "0.0573584264225\n",
      "glm Model Build progress: |███████████████████████████████████████████████| 100%\n",
      "4.82043222128e-05\n",
      "5.09228191519e-05\n",
      "0.0654417054178\n",
      "0.0654489562443\n",
      "glm Model Build progress: |███████████████████████████████████████████████| 100%\n",
      "0.000396100753537\n",
      "0.000111418278843\n",
      "0.0725980043696\n",
      "0.0725893589652\n",
      "glm Model Build progress: |███████████████████████████████████████████████| 100%\n",
      "0.000308671051698\n",
      "8.7798164419e-05\n",
      "0.0788926162962\n",
      "0.0788877381429\n",
      "glm Model Build progress: |███████████████████████████████████████████████| 100%\n",
      "1.68070128617e-05\n",
      "1.16731858257e-05\n",
      "0.0844343814462\n",
      "0.0844352913207\n",
      "glm Model Build progress: |███████████████████████████████████████████████| 100%\n",
      "0.000115938921527\n",
      "2.68427980296e-05\n",
      "0.0893137628292\n",
      "0.0893146427293\n",
      "glm Model Build progress: |███████████████████████████████████████████████| 100%\n",
      "8.84002112376e-05\n",
      "2.58922759233e-05\n",
      "0.0935985397359\n",
      "0.0935993751473\n",
      "glm Model Build progress: |███████████████████████████████████████████████| 100%\n",
      "0.000138778149348\n",
      "4.41358285551e-05\n",
      "0.0973547174808\n",
      "0.0973538623392\n",
      "glm Model Build progress: |███████████████████████████████████████████████| 100%\n",
      "0.000302366288931\n",
      "7.80957562606e-05\n",
      "0.100641306139\n",
      "0.10064000234\n",
      "glm Model Build progress: |███████████████████████████████████████████████| 100%\n",
      "0.000465448575189\n",
      "0.000102336025962\n",
      "0.103510594588\n",
      "0.103509111214\n",
      "glm Model Build progress: |███████████████████████████████████████████████| 100%\n",
      "0.000421809563487\n",
      "0.00014783168841\n",
      "0.106011115171\n",
      "0.106004705532\n",
      "glm Model Build progress: |███████████████████████████████████████████████| 100%\n",
      "0.000816372108368\n",
      "0.000228308619732\n",
      "0.108185849812\n",
      "0.108179803294\n",
      "glm Model Build progress: |███████████████████████████████████████████████| 100%\n",
      "0.00126830536455\n",
      "0.000336030400395\n",
      "0.111669526548\n",
      "0.111655635775\n",
      "glm Model Build progress: |███████████████████████████████████████████████| 100%\n",
      "0.00143781973255\n",
      "0.000331335773551\n",
      "0.114846966433\n",
      "0.114836973533\n",
      "glm Model Build progress: |███████████████████████████████████████████████| 100%\n",
      "0.00166436477718\n",
      "0.000369789593882\n",
      "0.117686474907\n",
      "0.117677074035\n",
      "glm Model Build progress: |███████████████████████████████████████████████| 100%\n",
      "0.00190458469513\n",
      "0.000407553027733\n",
      "0.12021927695\n",
      "0.120210622543\n",
      "glm Model Build progress: |███████████████████████████████████████████████| 100%\n",
      "0.00214120713399\n",
      "0.000441725320756\n",
      "0.122474029483\n",
      "0.122465697259\n",
      "glm Model Build progress: |███████████████████████████████████████████████| 100%\n",
      "0.00216422522769\n",
      "0.000466211697243\n",
      "0.12447694308\n",
      "0.124469491103\n",
      "glm Model Build progress: |███████████████████████████████████████████████| 100%\n",
      "0.00180684137898\n",
      "0.000568466688206\n",
      "0.126252928269\n",
      "0.126237876754\n",
      "glm Model Build progress: |███████████████████████████████████████████████| 100%\n",
      "0.00198602340916\n",
      "0.000597646383206\n",
      "0.127823988937\n",
      "0.127810428406\n",
      "glm Model Build progress: |███████████████████████████████████████████████| 100%\n",
      "0.00207189754664\n",
      "0.000606379474429\n",
      "0.129210385835\n",
      "0.129198737458\n",
      "glm Model Build progress: |███████████████████████████████████████████████| 100%\n",
      "0.00211098821356\n",
      "0.000603457808319\n",
      "0.130431039093\n",
      "0.130421377252\n",
      "glm Model Build progress: |███████████████████████████████████████████████| 100%\n",
      "0.0021209277078\n",
      "0.000594297415068\n",
      "0.131503362428\n",
      "0.131495589908\n",
      "glm Model Build progress: |███████████████████████████████████████████████| 100%\n",
      "0.002660252959\n",
      "0.000620015407229\n",
      "0.132441244026\n",
      "0.132437155485\n",
      "glm Model Build progress: |███████████████████████████████████████████████| 100%\n",
      "0.00248562025043\n",
      "0.000561011000851\n",
      "0.133262221618\n",
      "0.133260481727\n",
      "glm Model Build progress: |███████████████████████████████████████████████| 100%\n",
      "0.00162719489217\n",
      "0.00053440935294\n",
      "0.133989909423\n",
      "0.133978692594\n",
      "glm Model Build progress: |███████████████████████████████████████████████| 100%\n",
      "0.00152374206139\n",
      "0.000506830560886\n",
      "0.134613434038\n",
      "0.13460371157\n",
      "glm Model Build progress: |███████████████████████████████████████████████| 100%\n",
      "0.00145897694249\n",
      "0.000451495330748\n",
      "0.135154091566\n",
      "0.135146340727\n",
      "glm Model Build progress: |███████████████████████████████████████████████| 100%\n",
      "0.000972446343374\n",
      "0.000382203354127\n",
      "0.135622655337\n",
      "0.135616336426\n",
      "glm Model Build progress: |███████████████████████████████████████████████| 100%\n",
      "0.000749262468984\n",
      "0.000319786821418\n",
      "0.136027474217\n",
      "0.136022482255\n",
      "glm Model Build progress: |███████████████████████████████████████████████| 100%\n",
      "0.000785530223186\n",
      "0.000332119919846\n",
      "0.136377097159\n",
      "0.136372659579\n",
      "glm Model Build progress: |███████████████████████████████████████████████| 100%\n",
      "0.00058605035679\n",
      "0.000283356857937\n",
      "0.136677234716\n",
      "0.13667391588\n",
      "glm Model Build progress: |███████████████████████████████████████████████| 100%\n",
      "0.00039597528063\n",
      "0.000229993675679\n",
      "0.136934835128\n",
      "0.136932530913\n",
      "glm Model Build progress: |███████████████████████████████████████████████| 100%\n",
      "0.000376075975712\n",
      "0.000263747910534\n",
      "0.137156638179\n",
      "0.137154080562\n",
      "glm Model Build progress: |███████████████████████████████████████████████| 100%\n",
      "0.000405999913538\n",
      "0.000306292183233\n",
      "0.137346820811\n",
      "0.137343498246\n",
      "glm Model Build progress: |███████████████████████████████████████████████| 100%\n",
      "0.00031185217212\n",
      "0.000253975000027\n",
      "0.137507573136\n",
      "0.137505133643\n",
      "glm Model Build progress: |███████████████████████████████████████████████| 100%\n",
      "0.000219025005492\n",
      "0.000209617745457\n",
      "0.137644618134\n",
      "0.137642808509\n",
      "glm Model Build progress: |███████████████████████████████████████████████| 100%\n",
      "0.000524890785557\n",
      "0.000402920647814\n",
      "0.137761709651\n",
      "0.137758425253\n",
      "glm Model Build progress: |███████████████████████████████████████████████| 100%\n",
      "0.000463267454861\n",
      "0.000363878733878\n",
      "0.137860594907\n",
      "0.137857898939\n",
      "glm Model Build progress: |███████████████████████████████████████████████| 100%\n",
      "0.000321589668178\n",
      "0.000316890651613\n",
      "0.13794441716\n",
      "0.137942286718\n",
      "glm Model Build progress: |███████████████████████████████████████████████| 100%\n",
      "0.000343810311862\n",
      "0.000269387421302\n",
      "0.138015346832\n",
      "0.138013711465\n",
      "glm Model Build progress: |███████████████████████████████████████████████| 100%\n",
      "0.000305119993396\n",
      "0.000276008539555\n",
      "0.138075618685\n",
      "0.138074075703\n",
      "glm Model Build progress: |███████████████████████████████████████████████| 100%\n",
      "0.000320710065416\n",
      "0.000233423586889\n",
      "0.138126198408\n",
      "0.138125024233\n",
      "glm Model Build progress: |███████████████████████████████████████████████| 100%\n",
      "0.000419615910081\n",
      "0.000371645417719\n",
      "0.138168853093\n",
      "0.13816710386\n"
     ]
    }
   ],
   "source": [
    "glm_model = glm(family= \"binomial\", lambda_search=True, solver='COORDINATE_DESCENT')\n",
    "glm_model.train(predictors, response_col, training_frame= train)\n",
    "glm_regularization_path = glm.getGLMRegularizationPath(glm_model)\n",
    "\n",
    "glm_model2 = glm.makeGLMModel(model=glm_model, coefs=glm_regularization_path['coefficients'][10])\n",
    "dev1 = glm_regularization_path['explained_deviance_train'][10]\n",
    "p = glm_model2.model_performance(train)\n",
    "dev2 = 1-p.residual_deviance()/p.null_deviance()\n",
    "print(dev1,\" =?= \",dev2)\n",
    "\n",
    "assert abs(dev1 - dev2) < 1e-6\n",
    "\n",
    "for l in range(0,len(glm_regularization_path['lambdas'])):\n",
    "    glm_model = glm(family='binomial',lambda_search=False,Lambda=glm_regularization_path['lambdas'][l],solver='COORDINATE_DESCENT')\n",
    "    glm_model.train(predictors, response_col, training_frame= train)\n",
    "    cs = glm_regularization_path['coefficients'][l]\n",
    "    cs_norm = glm_regularization_path['coefficients_std'][l]\n",
    "    diff = 0\n",
    "    diff2 = 0\n",
    "    for n in cs.keys():\n",
    "        diff = max(diff,abs((cs[n] - glm_model.coef()[n])))\n",
    "        diff2 = max(diff2,abs((cs_norm[n] - glm_model.coef_norm()[n])))\n",
    "    print(diff)\n",
    "    print(diff2)\n",
    "    assert diff < 1e-2\n",
    "    assert diff2 < 1e-2\n",
    "    p = glm_model.model_performance(train)\n",
    "    devm = 1-p.residual_deviance()/p.null_deviance()\n",
    "    devn = glm_regularization_path['explained_deviance_train'][l]\n",
    "    print(devm)\n",
    "    print(devn)\n",
    "    assert abs(devm - devn) < 1e-4"
   ]
  },
  {
   "cell_type": "code",
   "execution_count": 34,
   "metadata": {},
   "outputs": [
    {
     "name": "stdout",
     "output_type": "stream",
     "text": [
      "Parse progress: |█████████████████████████████████████████████████████████| 100%\n"
     ]
    }
   ],
   "source": [
    "test = h2o.import_file('data/test_data_preprocessed.csv')"
   ]
  },
  {
   "cell_type": "code",
   "execution_count": 35,
   "metadata": {},
   "outputs": [],
   "source": [
    "test['donated'] = None\n",
    "# test['donated'] = test['donated'].asfactor()"
   ]
  },
  {
   "cell_type": "code",
   "execution_count": 51,
   "metadata": {},
   "outputs": [
    {
     "data": {
      "text/html": [
       "<table>\n",
       "<thead>\n",
       "<tr><th style=\"text-align: right;\">  mon_since_last</th><th style=\"text-align: right;\">  num_donations</th><th style=\"text-align: right;\">  mon_since_first</th><th style=\"text-align: right;\">  num_donations_per_month</th><th style=\"text-align: right;\">  tenure_ratio</th><th style=\"text-align: right;\">  donated</th></tr>\n",
       "</thead>\n",
       "<tbody>\n",
       "<tr><td style=\"text-align: right;\">               2</td><td style=\"text-align: right;\">             12</td><td style=\"text-align: right;\">               52</td><td style=\"text-align: right;\">                0.230769 </td><td style=\"text-align: right;\">     0.0384615</td><td style=\"text-align: right;\">      nan</td></tr>\n",
       "<tr><td style=\"text-align: right;\">              21</td><td style=\"text-align: right;\">              7</td><td style=\"text-align: right;\">               38</td><td style=\"text-align: right;\">                0.184211 </td><td style=\"text-align: right;\">     0.552632 </td><td style=\"text-align: right;\">      nan</td></tr>\n",
       "<tr><td style=\"text-align: right;\">               4</td><td style=\"text-align: right;\">              1</td><td style=\"text-align: right;\">                4</td><td style=\"text-align: right;\">                0.25     </td><td style=\"text-align: right;\">     1        </td><td style=\"text-align: right;\">      nan</td></tr>\n",
       "<tr><td style=\"text-align: right;\">              11</td><td style=\"text-align: right;\">             11</td><td style=\"text-align: right;\">               38</td><td style=\"text-align: right;\">                0.289474 </td><td style=\"text-align: right;\">     0.289474 </td><td style=\"text-align: right;\">      nan</td></tr>\n",
       "<tr><td style=\"text-align: right;\">               4</td><td style=\"text-align: right;\">             12</td><td style=\"text-align: right;\">               34</td><td style=\"text-align: right;\">                0.352941 </td><td style=\"text-align: right;\">     0.117647 </td><td style=\"text-align: right;\">      nan</td></tr>\n",
       "<tr><td style=\"text-align: right;\">               3</td><td style=\"text-align: right;\">             21</td><td style=\"text-align: right;\">               42</td><td style=\"text-align: right;\">                0.5      </td><td style=\"text-align: right;\">     0.0714286</td><td style=\"text-align: right;\">      nan</td></tr>\n",
       "<tr><td style=\"text-align: right;\">               4</td><td style=\"text-align: right;\">              2</td><td style=\"text-align: right;\">                4</td><td style=\"text-align: right;\">                0.5      </td><td style=\"text-align: right;\">     1        </td><td style=\"text-align: right;\">      nan</td></tr>\n",
       "<tr><td style=\"text-align: right;\">              14</td><td style=\"text-align: right;\">              1</td><td style=\"text-align: right;\">               14</td><td style=\"text-align: right;\">                0.0714286</td><td style=\"text-align: right;\">     1        </td><td style=\"text-align: right;\">      nan</td></tr>\n",
       "<tr><td style=\"text-align: right;\">              23</td><td style=\"text-align: right;\">              2</td><td style=\"text-align: right;\">               87</td><td style=\"text-align: right;\">                0.0229885</td><td style=\"text-align: right;\">     0.264368 </td><td style=\"text-align: right;\">      nan</td></tr>\n",
       "<tr><td style=\"text-align: right;\">              14</td><td style=\"text-align: right;\">              4</td><td style=\"text-align: right;\">               64</td><td style=\"text-align: right;\">                0.0625   </td><td style=\"text-align: right;\">     0.21875  </td><td style=\"text-align: right;\">      nan</td></tr>\n",
       "</tbody>\n",
       "</table>"
      ]
     },
     "metadata": {},
     "output_type": "display_data"
    },
    {
     "data": {
      "text/plain": []
     },
     "execution_count": 51,
     "metadata": {},
     "output_type": "execute_result"
    }
   ],
   "source": [
    "test"
   ]
  },
  {
   "cell_type": "code",
   "execution_count": 38,
   "metadata": {},
   "outputs": [
    {
     "name": "stdout",
     "output_type": "stream",
     "text": [
      "glm prediction progress: |████████████████████████████████████████████████| 100%\n"
     ]
    }
   ],
   "source": [
    "predictions = glm_model.predict(test)"
   ]
  },
  {
   "cell_type": "code",
   "execution_count": 52,
   "metadata": {},
   "outputs": [
    {
     "name": "stdout",
     "output_type": "stream",
     "text": [
      "Parse progress: |█████████████████████████████████████████████████████████| 100%\n"
     ]
    }
   ],
   "source": [
    "y = h2o.import_file('data/test_data.csv')"
   ]
  },
  {
   "cell_type": "code",
   "execution_count": 56,
   "metadata": {},
   "outputs": [],
   "source": [
    "ids=y['C1']"
   ]
  },
  {
   "cell_type": "code",
   "execution_count": 58,
   "metadata": {},
   "outputs": [
    {
     "data": {
      "text/html": [
       "<table>\n",
       "<thead>\n",
       "<tr><th style=\"text-align: right;\">  mon_since_last</th><th style=\"text-align: right;\">  num_donations</th><th style=\"text-align: right;\">  mon_since_first</th><th style=\"text-align: right;\">  donated</th><th style=\"text-align: right;\">  num_donations_per_month</th><th style=\"text-align: right;\">  tenure_ratio</th></tr>\n",
       "</thead>\n",
       "<tbody>\n",
       "<tr><td style=\"text-align: right;\">               2</td><td style=\"text-align: right;\">             50</td><td style=\"text-align: right;\">               98</td><td style=\"text-align: right;\">        1</td><td style=\"text-align: right;\">                 0.510204</td><td style=\"text-align: right;\">     0.0204082</td></tr>\n",
       "<tr><td style=\"text-align: right;\">               0</td><td style=\"text-align: right;\">             13</td><td style=\"text-align: right;\">               28</td><td style=\"text-align: right;\">        1</td><td style=\"text-align: right;\">                 0.464286</td><td style=\"text-align: right;\">     0        </td></tr>\n",
       "<tr><td style=\"text-align: right;\">               1</td><td style=\"text-align: right;\">             16</td><td style=\"text-align: right;\">               35</td><td style=\"text-align: right;\">        1</td><td style=\"text-align: right;\">                 0.457143</td><td style=\"text-align: right;\">     0.0285714</td></tr>\n",
       "<tr><td style=\"text-align: right;\">               2</td><td style=\"text-align: right;\">             20</td><td style=\"text-align: right;\">               45</td><td style=\"text-align: right;\">        1</td><td style=\"text-align: right;\">                 0.444444</td><td style=\"text-align: right;\">     0.0444444</td></tr>\n",
       "<tr><td style=\"text-align: right;\">               1</td><td style=\"text-align: right;\">             24</td><td style=\"text-align: right;\">               77</td><td style=\"text-align: right;\">        0</td><td style=\"text-align: right;\">                 0.311688</td><td style=\"text-align: right;\">     0.012987 </td></tr>\n",
       "<tr><td style=\"text-align: right;\">               4</td><td style=\"text-align: right;\">              4</td><td style=\"text-align: right;\">                4</td><td style=\"text-align: right;\">        0</td><td style=\"text-align: right;\">                 1       </td><td style=\"text-align: right;\">     1        </td></tr>\n",
       "<tr><td style=\"text-align: right;\">               2</td><td style=\"text-align: right;\">              7</td><td style=\"text-align: right;\">               14</td><td style=\"text-align: right;\">        1</td><td style=\"text-align: right;\">                 0.5     </td><td style=\"text-align: right;\">     0.142857 </td></tr>\n",
       "<tr><td style=\"text-align: right;\">               1</td><td style=\"text-align: right;\">             12</td><td style=\"text-align: right;\">               35</td><td style=\"text-align: right;\">        0</td><td style=\"text-align: right;\">                 0.342857</td><td style=\"text-align: right;\">     0.0285714</td></tr>\n",
       "<tr><td style=\"text-align: right;\">               5</td><td style=\"text-align: right;\">             46</td><td style=\"text-align: right;\">               98</td><td style=\"text-align: right;\">        1</td><td style=\"text-align: right;\">                 0.469388</td><td style=\"text-align: right;\">     0.0510204</td></tr>\n",
       "<tr><td style=\"text-align: right;\">               0</td><td style=\"text-align: right;\">              3</td><td style=\"text-align: right;\">                4</td><td style=\"text-align: right;\">        0</td><td style=\"text-align: right;\">                 0.75    </td><td style=\"text-align: right;\">     0        </td></tr>\n",
       "</tbody>\n",
       "</table>"
      ]
     },
     "metadata": {},
     "output_type": "display_data"
    },
    {
     "data": {
      "text/plain": []
     },
     "execution_count": 58,
     "metadata": {},
     "output_type": "execute_result"
    }
   ],
   "source": [
    "train"
   ]
  },
  {
   "cell_type": "code",
   "execution_count": 66,
   "metadata": {},
   "outputs": [],
   "source": [
    "predictions_class1 = [ids, 'Made Donation in March 2007':predictions['p1']]"
   ]
  },
  {
   "cell_type": "code",
   "execution_count": 69,
   "metadata": {},
   "outputs": [
    {
     "name": "stdout",
     "output_type": "stream",
     "text": [
      "Export File progress: |███████████████████████████████████████████████████| 100%\n"
     ]
    }
   ],
   "source": [
    "h2o.export_file(predictions['p1'], \"submission_h2o_glm.csv\", force=True)"
   ]
  },
  {
   "cell_type": "code",
   "execution_count": 70,
   "metadata": {},
   "outputs": [
    {
     "name": "stdout",
     "output_type": "stream",
     "text": [
      "Export File progress: |███████████████████████████████████████████████████| 100%\n"
     ]
    }
   ],
   "source": [
    "h2o.export_file(ids, \"ids.csv\", force=True)"
   ]
  },
  {
   "cell_type": "code",
   "execution_count": null,
   "metadata": {},
   "outputs": [],
   "source": []
  }
 ],
 "metadata": {
  "kernelspec": {
   "display_name": "Python 2",
   "language": "python",
   "name": "python2"
  },
  "language_info": {
   "codemirror_mode": {
    "name": "ipython",
    "version": 2
   },
   "file_extension": ".py",
   "mimetype": "text/x-python",
   "name": "python",
   "nbconvert_exporter": "python",
   "pygments_lexer": "ipython2",
   "version": "2.7.15"
  }
 },
 "nbformat": 4,
 "nbformat_minor": 2
}
