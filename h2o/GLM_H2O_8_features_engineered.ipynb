{
 "cells": [
  {
   "cell_type": "code",
   "execution_count": 71,
   "metadata": {},
   "outputs": [
    {
     "name": "stdout",
     "output_type": "stream",
     "text": [
      "Checking whether there is an H2O instance running at http://localhost:54321. connected.\n"
     ]
    },
    {
     "data": {
      "text/html": [
       "<div style=\"overflow:auto\"><table style=\"width:50%\"><tr><td>H2O cluster uptime:</td>\n",
       "<td>4 hours 49 mins</td></tr>\n",
       "<tr><td>H2O cluster timezone:</td>\n",
       "<td>Asia/Colombo</td></tr>\n",
       "<tr><td>H2O data parsing timezone:</td>\n",
       "<td>UTC</td></tr>\n",
       "<tr><td>H2O cluster version:</td>\n",
       "<td>3.18.0.11</td></tr>\n",
       "<tr><td>H2O cluster version age:</td>\n",
       "<td>2 months and 2 days </td></tr>\n",
       "<tr><td>H2O cluster name:</td>\n",
       "<td>H2O_from_python_sajeewa_ykd1d6</td></tr>\n",
       "<tr><td>H2O cluster total nodes:</td>\n",
       "<td>1</td></tr>\n",
       "<tr><td>H2O cluster free memory:</td>\n",
       "<td>1.867 Gb</td></tr>\n",
       "<tr><td>H2O cluster total cores:</td>\n",
       "<td>8</td></tr>\n",
       "<tr><td>H2O cluster allowed cores:</td>\n",
       "<td>8</td></tr>\n",
       "<tr><td>H2O cluster status:</td>\n",
       "<td>locked, healthy</td></tr>\n",
       "<tr><td>H2O connection url:</td>\n",
       "<td>http://localhost:54321</td></tr>\n",
       "<tr><td>H2O connection proxy:</td>\n",
       "<td>None</td></tr>\n",
       "<tr><td>H2O internal security:</td>\n",
       "<td>False</td></tr>\n",
       "<tr><td>H2O API Extensions:</td>\n",
       "<td>XGBoost, Algos, AutoML, Core V3, Core V4</td></tr>\n",
       "<tr><td>Python version:</td>\n",
       "<td>2.7.15 final</td></tr></table></div>"
      ],
      "text/plain": [
       "--------------------------  ----------------------------------------\n",
       "H2O cluster uptime:         4 hours 49 mins\n",
       "H2O cluster timezone:       Asia/Colombo\n",
       "H2O data parsing timezone:  UTC\n",
       "H2O cluster version:        3.18.0.11\n",
       "H2O cluster version age:    2 months and 2 days\n",
       "H2O cluster name:           H2O_from_python_sajeewa_ykd1d6\n",
       "H2O cluster total nodes:    1\n",
       "H2O cluster free memory:    1.867 Gb\n",
       "H2O cluster total cores:    8\n",
       "H2O cluster allowed cores:  8\n",
       "H2O cluster status:         locked, healthy\n",
       "H2O connection url:         http://localhost:54321\n",
       "H2O connection proxy:\n",
       "H2O internal security:      False\n",
       "H2O API Extensions:         XGBoost, Algos, AutoML, Core V3, Core V4\n",
       "Python version:             2.7.15 final\n",
       "--------------------------  ----------------------------------------"
      ]
     },
     "metadata": {},
     "output_type": "display_data"
    }
   ],
   "source": [
    "import h2o\n",
    "h2o.init()"
   ]
  },
  {
   "cell_type": "code",
   "execution_count": 72,
   "metadata": {},
   "outputs": [],
   "source": [
    "from h2o.estimators.glm import H2OGeneralizedLinearEstimator as glm\n",
    "from builtins import range"
   ]
  },
  {
   "cell_type": "code",
   "execution_count": 74,
   "metadata": {},
   "outputs": [
    {
     "name": "stdout",
     "output_type": "stream",
     "text": [
      "Parse progress: |█████████████████████████████████████████████████████████| 100%\n"
     ]
    }
   ],
   "source": [
    "train = h2o.import_file('data/train_preprocess_feature_engineering.csv')\n",
    "# train['donated'] = train['donated'].asfactor()"
   ]
  },
  {
   "cell_type": "code",
   "execution_count": 75,
   "metadata": {},
   "outputs": [],
   "source": [
    "predictors = [\"mon_since_last\", \"num_donations\", \"mon_since_first\", \"log_difference\", \"log_donation_period\", \"log_ratio\", \"old_good_donor\", \"old_bad_donor\", \"good_donor\", \"bad_donor\", \"quitted\"]\n",
    "response_col = \"donated\"\n",
    "\n",
    "train[\"old_good_donor\"] = train[\"old_good_donor\"].asfactor()\n",
    "train[\"old_bad_donor\"] = train[\"old_bad_donor\"].asfactor()\n",
    "train[\"good_donor\"] = train[\"good_donor\"].asfactor()\n",
    "train[\"bad_donor\"] = train[\"bad_donor\"].asfactor()\n",
    "train[\"quitted\"] = train[\"quitted\"].asfactor()"
   ]
  },
  {
   "cell_type": "code",
   "execution_count": 79,
   "metadata": {
    "scrolled": true
   },
   "outputs": [
    {
     "name": "stdout",
     "output_type": "stream",
     "text": [
      "glm Model Build progress: |███████████████████████████████████████████████| 100%\n",
      "(0.08922469895274854, ' =?= ', 0.08922469895271168)\n",
      "glm Model Build progress: |███████████████████████████████████████████████| 100%\n",
      "0\n",
      "0\n",
      "0.0\n",
      "0.0\n",
      "glm Model Build progress: |███████████████████████████████████████████████| 100%\n",
      "6.22241147497e-12\n",
      "5.99367777632e-13\n",
      "0.00890403964778\n",
      "0.00890403964755\n",
      "glm Model Build progress: |███████████████████████████████████████████████| 100%\n",
      "8.03770975383e-05\n",
      "7.71625728137e-06\n",
      "0.0184356969026\n",
      "0.0184367068568\n",
      "glm Model Build progress: |███████████████████████████████████████████████| 100%\n",
      "0.000313116827068\n",
      "3.6205377152e-05\n",
      "0.0302130156973\n",
      "0.0302105406919\n",
      "glm Model Build progress: |███████████████████████████████████████████████| 100%\n",
      "0.000435375743615\n",
      "6.39682113528e-05\n",
      "0.0419573420058\n",
      "0.0419589350317\n",
      "glm Model Build progress: |███████████████████████████████████████████████| 100%\n",
      "3.94206983452e-05\n",
      "8.73334980196e-05\n",
      "0.0524831034471\n",
      "0.0524971614737\n",
      "glm Model Build progress: |███████████████████████████████████████████████| 100%\n",
      "0.000192549001986\n",
      "0.000147864541758\n",
      "0.0617813633475\n",
      "0.0617991386597\n",
      "glm Model Build progress: |███████████████████████████████████████████████| 100%\n",
      "9.02510969631e-05\n",
      "1.84272041838e-05\n",
      "0.0700044875272\n",
      "0.0700051719572\n",
      "glm Model Build progress: |███████████████████████████████████████████████| 100%\n",
      "0.00021538603201\n",
      "3.96484125914e-05\n",
      "0.07724376075\n",
      "0.0772416020923\n",
      "glm Model Build progress: |███████████████████████████████████████████████| 100%\n",
      "0.00070636610912\n",
      "0.000129890956813\n",
      "0.0836205744447\n",
      "0.0836154548965\n",
      "glm Model Build progress: |███████████████████████████████████████████████| 100%\n",
      "0.000131665154494\n",
      "2.71494675496e-05\n",
      "0.0892242734454\n",
      "0.0892246989527\n",
      "glm Model Build progress: |███████████████████████████████████████████████| 100%\n",
      "0.000184578550705\n",
      "2.67413469457e-05\n",
      "0.0941537644761\n",
      "0.0941543120339\n",
      "glm Model Build progress: |███████████████████████████████████████████████| 100%\n",
      "8.94583191733e-05\n",
      "1.65601868737e-05\n",
      "0.0984795103529\n",
      "0.098479759557\n",
      "glm Model Build progress: |███████████████████████████████████████████████| 100%\n",
      "3.70506659149e-05\n",
      "1.51489543977e-05\n",
      "0.102268368095\n",
      "0.102268782437\n",
      "glm Model Build progress: |███████████████████████████████████████████████| 100%\n",
      "0.000261188951717\n",
      "3.33268286917e-05\n",
      "0.105581583031\n",
      "0.105581505913\n",
      "glm Model Build progress: |███████████████████████████████████████████████| 100%\n",
      "0.000256866546019\n",
      "0.000105305081561\n",
      "0.108473140954\n",
      "0.108466672137\n",
      "glm Model Build progress: |███████████████████████████████████████████████| 100%\n",
      "0.000502846285251\n",
      "0.00013027185783\n",
      "0.110991700734\n",
      "0.110986681818\n",
      "glm Model Build progress: |███████████████████████████████████████████████| 100%\n",
      "0.00097225112739\n",
      "0.00018653015596\n",
      "0.113181533131\n",
      "0.113177762802\n",
      "glm Model Build progress: |███████████████████████████████████████████████| 100%\n",
      "0.000473103231834\n",
      "0.000236221635915\n",
      "0.11508105893\n",
      "0.115068951784\n",
      "glm Model Build progress: |███████████████████████████████████████████████| 100%\n",
      "0.00208254470243\n",
      "0.000439662398799\n",
      "0.117507891003\n",
      "0.117507017324\n",
      "glm Model Build progress: |███████████████████████████████████████████████| 100%\n",
      "0.00218775691191\n",
      "0.00157723761513\n",
      "0.120892791986\n",
      "0.120891004898\n",
      "glm Model Build progress: |███████████████████████████████████████████████| 100%\n",
      "0.00223714957777\n",
      "0.00183715036074\n",
      "0.123925796562\n",
      "0.123915953131\n",
      "glm Model Build progress: |███████████████████████████████████████████████| 100%\n",
      "0.00285908229319\n",
      "0.00210885648392\n",
      "0.126634592251\n",
      "0.126628250816\n",
      "glm Model Build progress: |███████████████████████████████████████████████| 100%\n",
      "0.00200903833336\n",
      "0.000647618460479\n",
      "0.129055555153\n",
      "0.129055378554\n",
      "glm Model Build progress: |███████████████████████████████████████████████| 100%\n",
      "0.0036131192281\n",
      "0.000978619837177\n",
      "0.131225792339\n",
      "0.131227432423\n",
      "glm Model Build progress: |███████████████████████████████████████████████| 100%\n",
      "0.00632968556988\n",
      "0.00133319931481\n",
      "0.133372444128\n",
      "0.133394818423\n",
      "glm Model Build progress: |███████████████████████████████████████████████| 100%\n",
      "0.00659290940408\n",
      "0.00139427636015\n",
      "0.135338224395\n",
      "0.135360181413\n",
      "glm Model Build progress: |███████████████████████████████████████████████| 100%\n",
      "0.00660938203791\n",
      "0.00139822292404\n",
      "0.137093668119\n",
      "0.137107501358\n",
      "glm Model Build progress: |███████████████████████████████████████████████| 100%\n",
      "0.00635343942145\n",
      "0.0013493250019\n",
      "0.138655222675\n",
      "0.138667161509\n",
      "glm Model Build progress: |███████████████████████████████████████████████| 100%\n",
      "0.00579753434571\n",
      "0.00119942635264\n",
      "0.140044384819\n",
      "0.140051827931\n",
      "glm Model Build progress: |███████████████████████████████████████████████| 100%\n",
      "0.00552379881444\n",
      "0.00111760113084\n",
      "0.14127260875\n",
      "0.141279343858\n",
      "glm Model Build progress: |███████████████████████████████████████████████| 100%\n",
      "0.00497500439239\n",
      "0.000988202153275\n",
      "0.142359322439\n",
      "0.142363830706\n",
      "glm Model Build progress: |███████████████████████████████████████████████| 100%\n",
      "0.00484976532844\n",
      "0.000945321589215\n",
      "0.143317028615\n",
      "0.143321006334\n",
      "glm Model Build progress: |███████████████████████████████████████████████| 100%\n",
      "0.00464326030566\n",
      "0.000893840804498\n",
      "0.144160074831\n",
      "0.144163955776\n",
      "glm Model Build progress: |███████████████████████████████████████████████| 100%\n",
      "0.00481761745052\n",
      "0.000902730443934\n",
      "0.144900461776\n",
      "0.144903818691\n",
      "glm Model Build progress: |███████████████████████████████████████████████| 100%\n",
      "0.00592043185446\n",
      "0.00111533339498\n",
      "0.145547373475\n",
      "0.145552025698\n",
      "glm Model Build progress: |███████████████████████████████████████████████| 100%\n",
      "0.00405038440415\n",
      "0.000752631389651\n",
      "0.146115808228\n",
      "0.146118060079\n",
      "glm Model Build progress: |███████████████████████████████████████████████| 100%\n",
      "0.00265661685999\n",
      "0.00033354395272\n",
      "0.146611347661\n",
      "0.146612266677\n",
      "glm Model Build progress: |███████████████████████████████████████████████| 100%\n",
      "0.00292001467065\n",
      "0.00040962242175\n",
      "0.14701674602\n",
      "0.147014465543\n",
      "glm Model Build progress: |███████████████████████████████████████████████| 100%\n",
      "0.0067258275705\n",
      "0.00218082614044\n",
      "0.147361796607\n",
      "0.147352400703\n",
      "glm Model Build progress: |███████████████████████████████████████████████| 100%\n",
      "0.00585735435924\n",
      "0.00712006324473\n",
      "0.147677836172\n",
      "0.147671780428\n",
      "glm Model Build progress: |███████████████████████████████████████████████| 100%\n",
      "0.00734815011551\n",
      "0.0100074927194\n",
      "0.147953144219\n",
      "0.14794541032\n",
      "glm Model Build progress: |███████████████████████████████████████████████| 100%\n",
      "0.0222407558048\n",
      "0.0255742161699\n",
      "0.148294441974\n",
      "0.148291484105\n",
      "glm Model Build progress: |███████████████████████████████████████████████| 100%\n",
      "0.0212573368227\n",
      "0.0243632734933\n",
      "0.148668945239\n",
      "0.148663155391\n",
      "glm Model Build progress: |███████████████████████████████████████████████| 100%\n",
      "0.021153120779\n",
      "0.0225286144789\n",
      "0.148985770885\n",
      "0.148980484574\n",
      "glm Model Build progress: |███████████████████████████████████████████████| 100%\n",
      "0.0334065113436\n",
      "0.0345979905659\n",
      "0.149333025191\n",
      "0.149317257192\n",
      "glm Model Build progress: |███████████████████████████████████████████████| 100%\n",
      "0.0416808153132\n",
      "0.0419984321258\n",
      "0.149663160658\n",
      "0.149652148542\n",
      "glm Model Build progress: |███████████████████████████████████████████████| 100%\n",
      "0.0490776730519\n",
      "0.0489384226509\n",
      "0.149946616723\n",
      "0.149937135077\n",
      "glm Model Build progress: |███████████████████████████████████████████████| 100%\n",
      "0.0556306283512\n",
      "0.0553187417607\n",
      "0.150187830738\n",
      "0.150179223209\n",
      "glm Model Build progress: |███████████████████████████████████████████████| 100%\n",
      "0.0622505400923\n",
      "0.0618686322775\n",
      "0.150392311554\n",
      "0.150384403115\n",
      "glm Model Build progress: |███████████████████████████████████████████████| 100%\n",
      "0.0687927158426\n",
      "0.0683103318712\n",
      "0.150565788518\n",
      "0.150558385306\n",
      "glm Model Build progress: |███████████████████████████████████████████████| 100%\n",
      "0.0750622609506\n",
      "0.0744698822716\n",
      "0.150712374426\n",
      "0.150705632265\n",
      "glm Model Build progress: |███████████████████████████████████████████████| 100%\n",
      "0.0819494858972\n",
      "0.0813092554487\n",
      "0.150835954028\n",
      "0.150829981189\n",
      "glm Model Build progress: |███████████████████████████████████████████████| 100%\n",
      "0.089103103439\n",
      "0.0887306671592\n",
      "0.150940597324\n",
      "0.150934747705\n",
      "glm Model Build progress: |███████████████████████████████████████████████| 100%\n",
      "0.0967010627414\n",
      "0.0963947145113\n",
      "0.151028190088\n",
      "0.151023053086\n",
      "glm Model Build progress: |███████████████████████████████████████████████| 100%\n",
      "0.106117064359\n",
      "0.105474985673\n"
     ]
    },
    {
     "name": "stdout",
     "output_type": "stream",
     "text": [
      "0.151101891188\n",
      "0.151097448815\n",
      "glm Model Build progress: |███████████████████████████████████████████████| 100%\n",
      "0.116076331495\n",
      "0.115524732309\n",
      "0.151163905291\n",
      "0.151159537287\n",
      "glm Model Build progress: |███████████████████████████████████████████████| 100%\n",
      "0.126100543283\n",
      "0.125916166136\n",
      "0.151216145388\n",
      "0.151211731649\n",
      "glm Model Build progress: |███████████████████████████████████████████████| 100%\n",
      "0.138000251679\n",
      "0.13787797203\n",
      "0.151259899543\n",
      "0.151255409752\n",
      "glm Model Build progress: |███████████████████████████████████████████████| 100%\n",
      "0.151108492532\n",
      "0.15079520477\n",
      "0.15129648454\n",
      "0.151292581133\n"
     ]
    }
   ],
   "source": [
    "glm_model = glm(family= \"binomial\", lambda_search=True, solver='COORDINATE_DESCENT')\n",
    "glm_model.train(predictors, response_col, training_frame= train)\n",
    "glm_regularization_path = glm.getGLMRegularizationPath(glm_model)\n",
    "\n",
    "glm_model2 = glm.makeGLMModel(model=glm_model, coefs=glm_regularization_path['coefficients'][10])\n",
    "dev1 = glm_regularization_path['explained_deviance_train'][10]\n",
    "p = glm_model2.model_performance(train)\n",
    "dev2 = 1-p.residual_deviance()/p.null_deviance()\n",
    "print(dev1,\" =?= \",dev2)\n",
    "\n",
    "assert abs(dev1 - dev2) < 1e-6\n",
    "\n",
    "for l in range(0,len(glm_regularization_path['lambdas'])):\n",
    "    glm_model = glm(family='binomial',lambda_search=False,Lambda=glm_regularization_path['lambdas'][l],solver='COORDINATE_DESCENT')\n",
    "    glm_model.train(predictors, response_col, training_frame= train)\n",
    "    cs = glm_regularization_path['coefficients'][l]\n",
    "    cs_norm = glm_regularization_path['coefficients_std'][l]\n",
    "    diff = 0\n",
    "    diff2 = 0\n",
    "    for n in cs.keys():\n",
    "        diff = max(diff,abs((cs[n] - glm_model.coef()[n])))\n",
    "        diff2 = max(diff2,abs((cs_norm[n] - glm_model.coef_norm()[n])))\n",
    "    print(diff)\n",
    "    print(diff2)\n",
    "#     assert diff < 1e-2\n",
    "#     assert diff2 < 1e-2\n",
    "    p = glm_model.model_performance(train)\n",
    "    devm = 1-p.residual_deviance()/p.null_deviance()\n",
    "    devn = glm_regularization_path['explained_deviance_train'][l]\n",
    "    print(devm)\n",
    "    print(devn)\n",
    "    assert abs(devm - devn) < 1e-4"
   ]
  },
  {
   "cell_type": "code",
   "execution_count": 80,
   "metadata": {},
   "outputs": [
    {
     "name": "stdout",
     "output_type": "stream",
     "text": [
      "Parse progress: |█████████████████████████████████████████████████████████| 100%\n"
     ]
    }
   ],
   "source": [
    "test = h2o.import_file('data/test_preprocess_feature_engineering.csv')"
   ]
  },
  {
   "cell_type": "code",
   "execution_count": 83,
   "metadata": {},
   "outputs": [],
   "source": [
    "test['donated'] = None\n",
    "\n",
    "test[\"old_good_donor\"] = test[\"old_good_donor\"].asfactor()\n",
    "test[\"old_bad_donor\"] = test[\"old_bad_donor\"].asfactor()\n",
    "test[\"good_donor\"] = test[\"good_donor\"].asfactor()\n",
    "test[\"bad_donor\"] = test[\"bad_donor\"].asfactor()\n",
    "test[\"quitted\"] = test[\"quitted\"].asfactor()"
   ]
  },
  {
   "cell_type": "code",
   "execution_count": 84,
   "metadata": {},
   "outputs": [
    {
     "data": {
      "text/html": [
       "<table>\n",
       "<thead>\n",
       "<tr><th style=\"text-align: right;\">  mon_since_last</th><th style=\"text-align: right;\">  num_donations</th><th style=\"text-align: right;\">  mon_since_first</th><th style=\"text-align: right;\">  log_difference</th><th style=\"text-align: right;\">  log_donation_period</th><th style=\"text-align: right;\">  log_ratio</th><th style=\"text-align: right;\">  old_good_donor</th><th style=\"text-align: right;\">  old_bad_donor</th><th style=\"text-align: right;\">  good_donor</th><th style=\"text-align: right;\">  bad_donor</th><th style=\"text-align: right;\">  quitted</th><th style=\"text-align: right;\">  donated</th></tr>\n",
       "</thead>\n",
       "<tbody>\n",
       "<tr><td style=\"text-align: right;\">               2</td><td style=\"text-align: right;\">             12</td><td style=\"text-align: right;\">               52</td><td style=\"text-align: right;\">         1.59571</td><td style=\"text-align: right;\">            0.188668 </td><td style=\"text-align: right;\">  0.0370456</td><td style=\"text-align: right;\">               1</td><td style=\"text-align: right;\">              0</td><td style=\"text-align: right;\">           1</td><td style=\"text-align: right;\">          0</td><td style=\"text-align: right;\">        0</td><td style=\"text-align: right;\">      nan</td></tr>\n",
       "<tr><td style=\"text-align: right;\">              21</td><td style=\"text-align: right;\">              7</td><td style=\"text-align: right;\">               38</td><td style=\"text-align: right;\">         1.3585 </td><td style=\"text-align: right;\">            0.156214 </td><td style=\"text-align: right;\">  0.364609 </td><td style=\"text-align: right;\">               0</td><td style=\"text-align: right;\">              1</td><td style=\"text-align: right;\">           0</td><td style=\"text-align: right;\">          1</td><td style=\"text-align: right;\">        0</td><td style=\"text-align: right;\">      nan</td></tr>\n",
       "<tr><td style=\"text-align: right;\">               4</td><td style=\"text-align: right;\">              1</td><td style=\"text-align: right;\">                4</td><td style=\"text-align: right;\">         0      </td><td style=\"text-align: right;\">            0.201424 </td><td style=\"text-align: right;\">  0.526589 </td><td style=\"text-align: right;\">               0</td><td style=\"text-align: right;\">              0</td><td style=\"text-align: right;\">           0</td><td style=\"text-align: right;\">          0</td><td style=\"text-align: right;\">        0</td><td style=\"text-align: right;\">      nan</td></tr>\n",
       "<tr><td style=\"text-align: right;\">              11</td><td style=\"text-align: right;\">             11</td><td style=\"text-align: right;\">               38</td><td style=\"text-align: right;\">         1.46608</td><td style=\"text-align: right;\">            0.226525 </td><td style=\"text-align: right;\">  0.226525 </td><td style=\"text-align: right;\">               0</td><td style=\"text-align: right;\">              1</td><td style=\"text-align: right;\">           0</td><td style=\"text-align: right;\">          1</td><td style=\"text-align: right;\">        0</td><td style=\"text-align: right;\">      nan</td></tr>\n",
       "<tr><td style=\"text-align: right;\">               4</td><td style=\"text-align: right;\">             12</td><td style=\"text-align: right;\">               34</td><td style=\"text-align: right;\">         1.4893 </td><td style=\"text-align: right;\">            0.264117 </td><td style=\"text-align: right;\">  0.105464 </td><td style=\"text-align: right;\">               0</td><td style=\"text-align: right;\">              0</td><td style=\"text-align: right;\">           0</td><td style=\"text-align: right;\">          0</td><td style=\"text-align: right;\">        0</td><td style=\"text-align: right;\">      nan</td></tr>\n",
       "<tr><td style=\"text-align: right;\">               3</td><td style=\"text-align: right;\">             21</td><td style=\"text-align: right;\">               42</td><td style=\"text-align: right;\">         1.54519</td><td style=\"text-align: right;\">            0.340368 </td><td style=\"text-align: right;\">  0.066717 </td><td style=\"text-align: right;\">               1</td><td style=\"text-align: right;\">              0</td><td style=\"text-align: right;\">           0</td><td style=\"text-align: right;\">          0</td><td style=\"text-align: right;\">        0</td><td style=\"text-align: right;\">      nan</td></tr>\n",
       "<tr><td style=\"text-align: right;\">               4</td><td style=\"text-align: right;\">              2</td><td style=\"text-align: right;\">                4</td><td style=\"text-align: right;\">         0      </td><td style=\"text-align: right;\">            0.340368 </td><td style=\"text-align: right;\">  0.526589 </td><td style=\"text-align: right;\">               0</td><td style=\"text-align: right;\">              0</td><td style=\"text-align: right;\">           0</td><td style=\"text-align: right;\">          0</td><td style=\"text-align: right;\">        0</td><td style=\"text-align: right;\">      nan</td></tr>\n",
       "<tr><td style=\"text-align: right;\">              14</td><td style=\"text-align: right;\">              1</td><td style=\"text-align: right;\">               14</td><td style=\"text-align: right;\">         0      </td><td style=\"text-align: right;\">            0.066717 </td><td style=\"text-align: right;\">  0.526589 </td><td style=\"text-align: right;\">               0</td><td style=\"text-align: right;\">              0</td><td style=\"text-align: right;\">           0</td><td style=\"text-align: right;\">          1</td><td style=\"text-align: right;\">        1</td><td style=\"text-align: right;\">      nan</td></tr>\n",
       "<tr><td style=\"text-align: right;\">              23</td><td style=\"text-align: right;\">              2</td><td style=\"text-align: right;\">               87</td><td style=\"text-align: right;\">         1.64372</td><td style=\"text-align: right;\">            0.0224738</td><td style=\"text-align: right;\">  0.210725 </td><td style=\"text-align: right;\">               0</td><td style=\"text-align: right;\">              1</td><td style=\"text-align: right;\">           0</td><td style=\"text-align: right;\">          1</td><td style=\"text-align: right;\">        1</td><td style=\"text-align: right;\">      nan</td></tr>\n",
       "<tr><td style=\"text-align: right;\">              14</td><td style=\"text-align: right;\">              4</td><td style=\"text-align: right;\">               64</td><td style=\"text-align: right;\">         1.59571</td><td style=\"text-align: right;\">            0.058858 </td><td style=\"text-align: right;\">  0.180508 </td><td style=\"text-align: right;\">               0</td><td style=\"text-align: right;\">              1</td><td style=\"text-align: right;\">           0</td><td style=\"text-align: right;\">          1</td><td style=\"text-align: right;\">        0</td><td style=\"text-align: right;\">      nan</td></tr>\n",
       "</tbody>\n",
       "</table>"
      ]
     },
     "metadata": {},
     "output_type": "display_data"
    },
    {
     "data": {
      "text/plain": []
     },
     "execution_count": 84,
     "metadata": {},
     "output_type": "execute_result"
    }
   ],
   "source": [
    "test"
   ]
  },
  {
   "cell_type": "code",
   "execution_count": 85,
   "metadata": {},
   "outputs": [
    {
     "name": "stdout",
     "output_type": "stream",
     "text": [
      "glm prediction progress: |████████████████████████████████████████████████| 100%\n"
     ]
    }
   ],
   "source": [
    "predictions = glm_model.predict(test)"
   ]
  },
  {
   "cell_type": "code",
   "execution_count": 87,
   "metadata": {},
   "outputs": [
    {
     "name": "stdout",
     "output_type": "stream",
     "text": [
      "Parse progress: |█████████████████████████████████████████████████████████| 100%\n"
     ]
    }
   ],
   "source": [
    "y = h2o.import_file('data/test_data.csv')"
   ]
  },
  {
   "cell_type": "code",
   "execution_count": 56,
   "metadata": {},
   "outputs": [],
   "source": [
    "ids=y['C1']"
   ]
  },
  {
   "cell_type": "code",
   "execution_count": 88,
   "metadata": {},
   "outputs": [
    {
     "data": {
      "text/html": [
       "<table>\n",
       "<thead>\n",
       "<tr><th style=\"text-align: right;\">  mon_since_last</th><th style=\"text-align: right;\">  num_donations</th><th style=\"text-align: right;\">  mon_since_first</th><th style=\"text-align: right;\">  donated</th><th style=\"text-align: right;\">  log_difference</th><th style=\"text-align: right;\">  log_donation_period</th><th style=\"text-align: right;\">  log_ratio</th><th style=\"text-align: right;\">  old_good_donor</th><th style=\"text-align: right;\">  old_bad_donor</th><th style=\"text-align: right;\">  good_donor</th><th style=\"text-align: right;\">  bad_donor</th><th style=\"text-align: right;\">  quitted</th></tr>\n",
       "</thead>\n",
       "<tbody>\n",
       "<tr><td style=\"text-align: right;\">               2</td><td style=\"text-align: right;\">             50</td><td style=\"text-align: right;\">               98</td><td style=\"text-align: right;\">        1</td><td style=\"text-align: right;\">        1.71824 </td><td style=\"text-align: right;\">             0.34518 </td><td style=\"text-align: right;\">  0.0200013</td><td style=\"text-align: right;\">               1</td><td style=\"text-align: right;\">              0</td><td style=\"text-align: right;\">           1</td><td style=\"text-align: right;\">          0</td><td style=\"text-align: right;\">        0</td></tr>\n",
       "<tr><td style=\"text-align: right;\">               0</td><td style=\"text-align: right;\">             13</td><td style=\"text-align: right;\">               28</td><td style=\"text-align: right;\">        1</td><td style=\"text-align: right;\">        1.47414 </td><td style=\"text-align: right;\">             0.323074</td><td style=\"text-align: right;\">  0        </td><td style=\"text-align: right;\">               1</td><td style=\"text-align: right;\">              0</td><td style=\"text-align: right;\">           1</td><td style=\"text-align: right;\">          0</td><td style=\"text-align: right;\">        0</td></tr>\n",
       "<tr><td style=\"text-align: right;\">               1</td><td style=\"text-align: right;\">             16</td><td style=\"text-align: right;\">               35</td><td style=\"text-align: right;\">        1</td><td style=\"text-align: right;\">        1.5163  </td><td style=\"text-align: right;\">             0.319528</td><td style=\"text-align: right;\">  0.0277814</td><td style=\"text-align: right;\">               1</td><td style=\"text-align: right;\">              0</td><td style=\"text-align: right;\">           1</td><td style=\"text-align: right;\">          0</td><td style=\"text-align: right;\">        0</td></tr>\n",
       "<tr><td style=\"text-align: right;\">               2</td><td style=\"text-align: right;\">             20</td><td style=\"text-align: right;\">               45</td><td style=\"text-align: right;\">        1</td><td style=\"text-align: right;\">        1.56532 </td><td style=\"text-align: right;\">             0.313149</td><td style=\"text-align: right;\">  0.0425662</td><td style=\"text-align: right;\">               1</td><td style=\"text-align: right;\">              0</td><td style=\"text-align: right;\">           1</td><td style=\"text-align: right;\">          0</td><td style=\"text-align: right;\">        0</td></tr>\n",
       "<tr><td style=\"text-align: right;\">               1</td><td style=\"text-align: right;\">             24</td><td style=\"text-align: right;\">               77</td><td style=\"text-align: right;\">        0</td><td style=\"text-align: right;\">        1.67594 </td><td style=\"text-align: right;\">             0.240052</td><td style=\"text-align: right;\">  0.0128209</td><td style=\"text-align: right;\">               1</td><td style=\"text-align: right;\">              0</td><td style=\"text-align: right;\">           1</td><td style=\"text-align: right;\">          0</td><td style=\"text-align: right;\">        0</td></tr>\n",
       "<tr><td style=\"text-align: right;\">               4</td><td style=\"text-align: right;\">              4</td><td style=\"text-align: right;\">                4</td><td style=\"text-align: right;\">        0</td><td style=\"text-align: right;\">        0       </td><td style=\"text-align: right;\">             0.526589</td><td style=\"text-align: right;\">  0.526589 </td><td style=\"text-align: right;\">               0</td><td style=\"text-align: right;\">              0</td><td style=\"text-align: right;\">           0</td><td style=\"text-align: right;\">          0</td><td style=\"text-align: right;\">        0</td></tr>\n",
       "<tr><td style=\"text-align: right;\">               2</td><td style=\"text-align: right;\">              7</td><td style=\"text-align: right;\">               14</td><td style=\"text-align: right;\">        1</td><td style=\"text-align: right;\">        1.27115 </td><td style=\"text-align: right;\">             0.340368</td><td style=\"text-align: right;\">  0.125338 </td><td style=\"text-align: right;\">               0</td><td style=\"text-align: right;\">              0</td><td style=\"text-align: right;\">           1</td><td style=\"text-align: right;\">          0</td><td style=\"text-align: right;\">        0</td></tr>\n",
       "<tr><td style=\"text-align: right;\">               1</td><td style=\"text-align: right;\">             12</td><td style=\"text-align: right;\">               35</td><td style=\"text-align: right;\">        0</td><td style=\"text-align: right;\">        1.5163  </td><td style=\"text-align: right;\">             0.258356</td><td style=\"text-align: right;\">  0.0277814</td><td style=\"text-align: right;\">               1</td><td style=\"text-align: right;\">              0</td><td style=\"text-align: right;\">           1</td><td style=\"text-align: right;\">          0</td><td style=\"text-align: right;\">        0</td></tr>\n",
       "<tr><td style=\"text-align: right;\">               5</td><td style=\"text-align: right;\">             46</td><td style=\"text-align: right;\">               98</td><td style=\"text-align: right;\">        1</td><td style=\"text-align: right;\">        1.71259 </td><td style=\"text-align: right;\">             0.325589</td><td style=\"text-align: right;\">  0.048563 </td><td style=\"text-align: right;\">               0</td><td style=\"text-align: right;\">              1</td><td style=\"text-align: right;\">           0</td><td style=\"text-align: right;\">          1</td><td style=\"text-align: right;\">        0</td></tr>\n",
       "<tr><td style=\"text-align: right;\">               0</td><td style=\"text-align: right;\">              3</td><td style=\"text-align: right;\">                4</td><td style=\"text-align: right;\">        0</td><td style=\"text-align: right;\">        0.959135</td><td style=\"text-align: right;\">             0.44444 </td><td style=\"text-align: right;\">  0        </td><td style=\"text-align: right;\">               0</td><td style=\"text-align: right;\">              0</td><td style=\"text-align: right;\">           1</td><td style=\"text-align: right;\">          0</td><td style=\"text-align: right;\">        0</td></tr>\n",
       "</tbody>\n",
       "</table>"
      ]
     },
     "metadata": {},
     "output_type": "display_data"
    },
    {
     "data": {
      "text/plain": []
     },
     "execution_count": 88,
     "metadata": {},
     "output_type": "execute_result"
    }
   ],
   "source": [
    "train"
   ]
  },
  {
   "cell_type": "code",
   "execution_count": 66,
   "metadata": {},
   "outputs": [],
   "source": [
    "predictions_class1 = [ids, 'Made Donation in March 2007':predictions['p1']]"
   ]
  },
  {
   "cell_type": "code",
   "execution_count": 89,
   "metadata": {},
   "outputs": [
    {
     "name": "stdout",
     "output_type": "stream",
     "text": [
      "Export File progress: |███████████████████████████████████████████████████| 100%\n"
     ]
    }
   ],
   "source": [
    "h2o.export_file(predictions['p1'], \"submission_h2o_glm_features_engineered.csv\", force=True)"
   ]
  },
  {
   "cell_type": "code",
   "execution_count": 70,
   "metadata": {},
   "outputs": [
    {
     "name": "stdout",
     "output_type": "stream",
     "text": [
      "Export File progress: |███████████████████████████████████████████████████| 100%\n"
     ]
    }
   ],
   "source": [
    "h2o.export_file(ids, \"ids.csv\", force=True)"
   ]
  },
  {
   "cell_type": "code",
   "execution_count": null,
   "metadata": {},
   "outputs": [],
   "source": []
  }
 ],
 "metadata": {
  "kernelspec": {
   "display_name": "Python 2",
   "language": "python",
   "name": "python2"
  },
  "language_info": {
   "codemirror_mode": {
    "name": "ipython",
    "version": 2
   },
   "file_extension": ".py",
   "mimetype": "text/x-python",
   "name": "python",
   "nbconvert_exporter": "python",
   "pygments_lexer": "ipython2",
   "version": "2.7.15"
  }
 },
 "nbformat": 4,
 "nbformat_minor": 2
}
