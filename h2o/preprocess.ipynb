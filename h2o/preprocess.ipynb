{
 "cells": [
  {
   "cell_type": "code",
   "execution_count": 1,
   "metadata": {},
   "outputs": [],
   "source": [
    "# Importing the libraries\n",
    "import pandas as pd"
   ]
  },
  {
   "cell_type": "code",
   "execution_count": 2,
   "metadata": {},
   "outputs": [],
   "source": [
    "#load data\n",
    "train_df = pd.read_csv('data/train_features.csv')\n",
    "test_df = pd.read_csv('data/test_data.csv')\n",
    "\n",
    "train_df.columns = ['ID', 'mon_since_last', 'num_donations', 'tot_vol', 'mon_since_first', 'donated']\n",
    "test_df.columns = ['ID', 'mon_since_last', 'num_donations', 'tot_vol', 'mon_since_first']"
   ]
  },
  {
   "cell_type": "code",
   "execution_count": 3,
   "metadata": {},
   "outputs": [],
   "source": [
    "#preprocessing\n",
    "ids = test_df['ID']\n",
    "train_df.drop('ID', axis=1, inplace=True)\n",
    "test_df.drop('ID', axis=1, inplace=True)\n",
    "\n",
    "train_df.drop('tot_vol', axis=1, inplace=True)\n",
    "test_df.drop('tot_vol', axis=1, inplace=True)"
   ]
  },
  {
   "cell_type": "code",
   "execution_count": 8,
   "metadata": {},
   "outputs": [],
   "source": [
    "#feature Engineering\n",
    "\n",
    "train_df['num_donations_per_month'] = train_df.num_donations/train_df.mon_since_first\n",
    "train_df['tenure_ratio'] = train_df.mon_since_last/train_df.mon_since_first\n",
    "\n",
    "test_df['num_donations_per_month'] = test_df.num_donations/test_df.mon_since_first\n",
    "test_df['tenure_ratio'] = test_df.mon_since_last/test_df.mon_since_first\n",
    "test_df['donated'] = train_df.donated[0:200]"
   ]
  },
  {
   "cell_type": "code",
   "execution_count": 11,
   "metadata": {},
   "outputs": [],
   "source": [
    "train_df.to_csv('data/train_features_preprocessed.csv', index=False)\n",
    "test_df.to_csv('data/test_data_preprocessed.csv', index=False)"
   ]
  },
  {
   "cell_type": "code",
   "execution_count": 9,
   "metadata": {},
   "outputs": [
    {
     "data": {
      "text/plain": [
       "200"
      ]
     },
     "execution_count": 9,
     "metadata": {},
     "output_type": "execute_result"
    }
   ],
   "source": [
    "len(train_df.donated[0:200])"
   ]
  }
 ],
 "metadata": {
  "kernelspec": {
   "display_name": "Python 2",
   "language": "python",
   "name": "python2"
  },
  "language_info": {
   "codemirror_mode": {
    "name": "ipython",
    "version": 2
   },
   "file_extension": ".py",
   "mimetype": "text/x-python",
   "name": "python",
   "nbconvert_exporter": "python",
   "pygments_lexer": "ipython2",
   "version": "2.7.15"
  }
 },
 "nbformat": 4,
 "nbformat_minor": 2
}
