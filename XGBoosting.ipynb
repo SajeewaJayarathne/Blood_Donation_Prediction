{
 "cells": [
  {
   "cell_type": "code",
   "execution_count": 1,
   "metadata": {},
   "outputs": [],
   "source": [
    "import pandas as pd\n",
    "import numpy as np\n",
    "\n",
    "import matplotlib.pyplot as plt\n",
    "import seaborn as sns\n",
    "%matplotlib inline\n",
    "plt.style.use('bmh')"
   ]
  },
  {
   "cell_type": "code",
   "execution_count": 2,
   "metadata": {},
   "outputs": [],
   "source": [
    "#features\n",
    "train_df = pd.read_csv('data/train_features.csv')\n",
    "test_df = pd.read_csv('data/test_data.csv')"
   ]
  },
  {
   "cell_type": "code",
   "execution_count": 3,
   "metadata": {},
   "outputs": [
    {
     "data": {
      "text/html": [
       "<div>\n",
       "<style scoped>\n",
       "    .dataframe tbody tr th:only-of-type {\n",
       "        vertical-align: middle;\n",
       "    }\n",
       "\n",
       "    .dataframe tbody tr th {\n",
       "        vertical-align: top;\n",
       "    }\n",
       "\n",
       "    .dataframe thead th {\n",
       "        text-align: right;\n",
       "    }\n",
       "</style>\n",
       "<table border=\"1\" class=\"dataframe\">\n",
       "  <thead>\n",
       "    <tr style=\"text-align: right;\">\n",
       "      <th></th>\n",
       "      <th>ID</th>\n",
       "      <th>Months since Last Donation</th>\n",
       "      <th>Number of Donations</th>\n",
       "      <th>Total Volume Donated (c.c.)</th>\n",
       "      <th>Months since First Donation</th>\n",
       "      <th>Made Donation in March 2007</th>\n",
       "    </tr>\n",
       "  </thead>\n",
       "  <tbody>\n",
       "    <tr>\n",
       "      <th>0</th>\n",
       "      <td>619</td>\n",
       "      <td>2</td>\n",
       "      <td>50</td>\n",
       "      <td>12500</td>\n",
       "      <td>98</td>\n",
       "      <td>1</td>\n",
       "    </tr>\n",
       "    <tr>\n",
       "      <th>1</th>\n",
       "      <td>664</td>\n",
       "      <td>0</td>\n",
       "      <td>13</td>\n",
       "      <td>3250</td>\n",
       "      <td>28</td>\n",
       "      <td>1</td>\n",
       "    </tr>\n",
       "    <tr>\n",
       "      <th>2</th>\n",
       "      <td>441</td>\n",
       "      <td>1</td>\n",
       "      <td>16</td>\n",
       "      <td>4000</td>\n",
       "      <td>35</td>\n",
       "      <td>1</td>\n",
       "    </tr>\n",
       "    <tr>\n",
       "      <th>3</th>\n",
       "      <td>160</td>\n",
       "      <td>2</td>\n",
       "      <td>20</td>\n",
       "      <td>5000</td>\n",
       "      <td>45</td>\n",
       "      <td>1</td>\n",
       "    </tr>\n",
       "    <tr>\n",
       "      <th>4</th>\n",
       "      <td>358</td>\n",
       "      <td>1</td>\n",
       "      <td>24</td>\n",
       "      <td>6000</td>\n",
       "      <td>77</td>\n",
       "      <td>0</td>\n",
       "    </tr>\n",
       "  </tbody>\n",
       "</table>\n",
       "</div>"
      ],
      "text/plain": [
       "    ID  Months since Last Donation  Number of Donations  \\\n",
       "0  619                           2                   50   \n",
       "1  664                           0                   13   \n",
       "2  441                           1                   16   \n",
       "3  160                           2                   20   \n",
       "4  358                           1                   24   \n",
       "\n",
       "   Total Volume Donated (c.c.)  Months since First Donation  \\\n",
       "0                        12500                           98   \n",
       "1                         3250                           28   \n",
       "2                         4000                           35   \n",
       "3                         5000                           45   \n",
       "4                         6000                           77   \n",
       "\n",
       "   Made Donation in March 2007  \n",
       "0                            1  \n",
       "1                            1  \n",
       "2                            1  \n",
       "3                            1  \n",
       "4                            0  "
      ]
     },
     "execution_count": 3,
     "metadata": {},
     "output_type": "execute_result"
    }
   ],
   "source": [
    "train_df.head()"
   ]
  },
  {
   "cell_type": "code",
   "execution_count": 4,
   "metadata": {},
   "outputs": [],
   "source": [
    "train_df.columns = ['ID', 'mon_since_last', 'num_donations', 'tot_vol', 'mon_since_first', 'donated']"
   ]
  },
  {
   "cell_type": "code",
   "execution_count": 5,
   "metadata": {},
   "outputs": [
    {
     "data": {
      "text/html": [
       "<div>\n",
       "<style scoped>\n",
       "    .dataframe tbody tr th:only-of-type {\n",
       "        vertical-align: middle;\n",
       "    }\n",
       "\n",
       "    .dataframe tbody tr th {\n",
       "        vertical-align: top;\n",
       "    }\n",
       "\n",
       "    .dataframe thead th {\n",
       "        text-align: right;\n",
       "    }\n",
       "</style>\n",
       "<table border=\"1\" class=\"dataframe\">\n",
       "  <thead>\n",
       "    <tr style=\"text-align: right;\">\n",
       "      <th></th>\n",
       "      <th>ID</th>\n",
       "      <th>mon_since_last</th>\n",
       "      <th>num_donations</th>\n",
       "      <th>tot_vol</th>\n",
       "      <th>mon_since_first</th>\n",
       "      <th>donated</th>\n",
       "    </tr>\n",
       "  </thead>\n",
       "  <tbody>\n",
       "    <tr>\n",
       "      <th>0</th>\n",
       "      <td>619</td>\n",
       "      <td>2</td>\n",
       "      <td>50</td>\n",
       "      <td>12500</td>\n",
       "      <td>98</td>\n",
       "      <td>1</td>\n",
       "    </tr>\n",
       "    <tr>\n",
       "      <th>1</th>\n",
       "      <td>664</td>\n",
       "      <td>0</td>\n",
       "      <td>13</td>\n",
       "      <td>3250</td>\n",
       "      <td>28</td>\n",
       "      <td>1</td>\n",
       "    </tr>\n",
       "    <tr>\n",
       "      <th>2</th>\n",
       "      <td>441</td>\n",
       "      <td>1</td>\n",
       "      <td>16</td>\n",
       "      <td>4000</td>\n",
       "      <td>35</td>\n",
       "      <td>1</td>\n",
       "    </tr>\n",
       "    <tr>\n",
       "      <th>3</th>\n",
       "      <td>160</td>\n",
       "      <td>2</td>\n",
       "      <td>20</td>\n",
       "      <td>5000</td>\n",
       "      <td>45</td>\n",
       "      <td>1</td>\n",
       "    </tr>\n",
       "    <tr>\n",
       "      <th>4</th>\n",
       "      <td>358</td>\n",
       "      <td>1</td>\n",
       "      <td>24</td>\n",
       "      <td>6000</td>\n",
       "      <td>77</td>\n",
       "      <td>0</td>\n",
       "    </tr>\n",
       "  </tbody>\n",
       "</table>\n",
       "</div>"
      ],
      "text/plain": [
       "    ID  mon_since_last  num_donations  tot_vol  mon_since_first  donated\n",
       "0  619               2             50    12500               98        1\n",
       "1  664               0             13     3250               28        1\n",
       "2  441               1             16     4000               35        1\n",
       "3  160               2             20     5000               45        1\n",
       "4  358               1             24     6000               77        0"
      ]
     },
     "execution_count": 5,
     "metadata": {},
     "output_type": "execute_result"
    }
   ],
   "source": [
    "train_df.head()"
   ]
  },
  {
   "cell_type": "code",
   "execution_count": 6,
   "metadata": {},
   "outputs": [],
   "source": [
    "#target\n",
    "target = train_df['donated']"
   ]
  },
  {
   "cell_type": "code",
   "execution_count": 7,
   "metadata": {},
   "outputs": [],
   "source": [
    "train_df.drop('ID', axis=1, inplace=True)"
   ]
  },
  {
   "cell_type": "code",
   "execution_count": 8,
   "metadata": {},
   "outputs": [
    {
     "data": {
      "text/html": [
       "<div>\n",
       "<style scoped>\n",
       "    .dataframe tbody tr th:only-of-type {\n",
       "        vertical-align: middle;\n",
       "    }\n",
       "\n",
       "    .dataframe tbody tr th {\n",
       "        vertical-align: top;\n",
       "    }\n",
       "\n",
       "    .dataframe thead th {\n",
       "        text-align: right;\n",
       "    }\n",
       "</style>\n",
       "<table border=\"1\" class=\"dataframe\">\n",
       "  <thead>\n",
       "    <tr style=\"text-align: right;\">\n",
       "      <th></th>\n",
       "      <th>mon_since_last</th>\n",
       "      <th>num_donations</th>\n",
       "      <th>tot_vol</th>\n",
       "      <th>mon_since_first</th>\n",
       "      <th>donated</th>\n",
       "    </tr>\n",
       "  </thead>\n",
       "  <tbody>\n",
       "    <tr>\n",
       "      <th>0</th>\n",
       "      <td>2</td>\n",
       "      <td>50</td>\n",
       "      <td>12500</td>\n",
       "      <td>98</td>\n",
       "      <td>1</td>\n",
       "    </tr>\n",
       "    <tr>\n",
       "      <th>1</th>\n",
       "      <td>0</td>\n",
       "      <td>13</td>\n",
       "      <td>3250</td>\n",
       "      <td>28</td>\n",
       "      <td>1</td>\n",
       "    </tr>\n",
       "    <tr>\n",
       "      <th>2</th>\n",
       "      <td>1</td>\n",
       "      <td>16</td>\n",
       "      <td>4000</td>\n",
       "      <td>35</td>\n",
       "      <td>1</td>\n",
       "    </tr>\n",
       "    <tr>\n",
       "      <th>3</th>\n",
       "      <td>2</td>\n",
       "      <td>20</td>\n",
       "      <td>5000</td>\n",
       "      <td>45</td>\n",
       "      <td>1</td>\n",
       "    </tr>\n",
       "    <tr>\n",
       "      <th>4</th>\n",
       "      <td>1</td>\n",
       "      <td>24</td>\n",
       "      <td>6000</td>\n",
       "      <td>77</td>\n",
       "      <td>0</td>\n",
       "    </tr>\n",
       "  </tbody>\n",
       "</table>\n",
       "</div>"
      ],
      "text/plain": [
       "   mon_since_last  num_donations  tot_vol  mon_since_first  donated\n",
       "0               2             50    12500               98        1\n",
       "1               0             13     3250               28        1\n",
       "2               1             16     4000               35        1\n",
       "3               2             20     5000               45        1\n",
       "4               1             24     6000               77        0"
      ]
     },
     "execution_count": 8,
     "metadata": {},
     "output_type": "execute_result"
    }
   ],
   "source": [
    "train_df.head()"
   ]
  },
  {
   "cell_type": "code",
   "execution_count": 9,
   "metadata": {},
   "outputs": [],
   "source": [
    "test_df.columns = ['ID', 'mon_since_last', 'num_donations', 'tot_vol', 'mon_since_first']"
   ]
  },
  {
   "cell_type": "code",
   "execution_count": 10,
   "metadata": {},
   "outputs": [],
   "source": [
    "ids = test_df['ID']\n",
    "test_df.drop('ID', axis=1, inplace=True)"
   ]
  },
  {
   "cell_type": "code",
   "execution_count": 11,
   "metadata": {},
   "outputs": [
    {
     "data": {
      "text/html": [
       "<div>\n",
       "<style scoped>\n",
       "    .dataframe tbody tr th:only-of-type {\n",
       "        vertical-align: middle;\n",
       "    }\n",
       "\n",
       "    .dataframe tbody tr th {\n",
       "        vertical-align: top;\n",
       "    }\n",
       "\n",
       "    .dataframe thead th {\n",
       "        text-align: right;\n",
       "    }\n",
       "</style>\n",
       "<table border=\"1\" class=\"dataframe\">\n",
       "  <thead>\n",
       "    <tr style=\"text-align: right;\">\n",
       "      <th></th>\n",
       "      <th>mon_since_last</th>\n",
       "      <th>num_donations</th>\n",
       "      <th>tot_vol</th>\n",
       "      <th>mon_since_first</th>\n",
       "    </tr>\n",
       "  </thead>\n",
       "  <tbody>\n",
       "    <tr>\n",
       "      <th>0</th>\n",
       "      <td>2</td>\n",
       "      <td>12</td>\n",
       "      <td>3000</td>\n",
       "      <td>52</td>\n",
       "    </tr>\n",
       "    <tr>\n",
       "      <th>1</th>\n",
       "      <td>21</td>\n",
       "      <td>7</td>\n",
       "      <td>1750</td>\n",
       "      <td>38</td>\n",
       "    </tr>\n",
       "    <tr>\n",
       "      <th>2</th>\n",
       "      <td>4</td>\n",
       "      <td>1</td>\n",
       "      <td>250</td>\n",
       "      <td>4</td>\n",
       "    </tr>\n",
       "    <tr>\n",
       "      <th>3</th>\n",
       "      <td>11</td>\n",
       "      <td>11</td>\n",
       "      <td>2750</td>\n",
       "      <td>38</td>\n",
       "    </tr>\n",
       "    <tr>\n",
       "      <th>4</th>\n",
       "      <td>4</td>\n",
       "      <td>12</td>\n",
       "      <td>3000</td>\n",
       "      <td>34</td>\n",
       "    </tr>\n",
       "  </tbody>\n",
       "</table>\n",
       "</div>"
      ],
      "text/plain": [
       "   mon_since_last  num_donations  tot_vol  mon_since_first\n",
       "0               2             12     3000               52\n",
       "1              21              7     1750               38\n",
       "2               4              1      250                4\n",
       "3              11             11     2750               38\n",
       "4               4             12     3000               34"
      ]
     },
     "execution_count": 11,
     "metadata": {},
     "output_type": "execute_result"
    }
   ],
   "source": [
    "test_df.head()"
   ]
  },
  {
   "cell_type": "code",
   "execution_count": 12,
   "metadata": {},
   "outputs": [
    {
     "data": {
      "text/plain": [
       "200"
      ]
     },
     "execution_count": 12,
     "metadata": {},
     "output_type": "execute_result"
    }
   ],
   "source": [
    "len(ids)"
   ]
  },
  {
   "cell_type": "code",
   "execution_count": 13,
   "metadata": {},
   "outputs": [
    {
     "data": {
      "text/plain": [
       "<matplotlib.axes._subplots.AxesSubplot at 0x7f8ae6524890>"
      ]
     },
     "execution_count": 13,
     "metadata": {},
     "output_type": "execute_result"
    },
    {
     "data": {
      "image/png": "[encoded data removed]",
      "text/plain": [
       "<Figure size 432x288 with 2 Axes>"
      ]
     },
     "metadata": {},
     "output_type": "display_data"
    }
   ],
   "source": [
    "sns.heatmap(train_df.corr()**2)"
   ]
  },
  {
   "cell_type": "code",
   "execution_count": 14,
   "metadata": {},
   "outputs": [],
   "source": [
    "train_df.drop('tot_vol', axis=1, inplace=True)\n",
    "test_df.drop('tot_vol', axis=1, inplace=True)"
   ]
  },
  {
   "cell_type": "code",
   "execution_count": 16,
   "metadata": {},
   "outputs": [
    {
     "data": {
      "text/plain": [
       "<matplotlib.axes._subplots.AxesSubplot at 0x7f8adf227610>"
      ]
     },
     "execution_count": 16,
     "metadata": {},
     "output_type": "execute_result"
    },
    {
     "data": {
      "image/png": "[encoded data removed]",
      "text/plain": [
       "<Figure size 432x288 with 1 Axes>"
      ]
     },
     "metadata": {},
     "output_type": "display_data"
    }
   ],
   "source": [
    "sns.set(font_scale = 1)\n",
    "(abs(train_df.corr())\n",
    " .donated\n",
    " .drop('donated')\n",
    " .sort_values()\n",
    " .plot\n",
    " .barh())"
   ]
  },
  {
   "cell_type": "code",
   "execution_count": 33,
   "metadata": {},
   "outputs": [],
   "source": [
    "#XGBoost\n",
    "from xgboost import XGBClassifier\n",
    "from sklearn.model_selection import train_test_split"
   ]
  },
  {
   "cell_type": "code",
   "execution_count": 35,
   "metadata": {},
   "outputs": [],
   "source": [
    "# split data into train and test sets\n",
    "seed = 7\n",
    "test_size = 0.33\n",
    "X_train, X_test, y_train, y_test = train_test_split(train_df, target, test_size=test_size, random_state=seed)"
   ]
  },
  {
   "cell_type": "code",
   "execution_count": 36,
   "metadata": {},
   "outputs": [
    {
     "data": {
      "text/plain": [
       "XGBClassifier(base_score=0.5, booster='gbtree', colsample_bylevel=1,\n",
       "       colsample_bytree=1, gamma=0, learning_rate=0.1, max_delta_step=0,\n",
       "       max_depth=3, min_child_weight=1, missing=None, n_estimators=100,\n",
       "       n_jobs=1, nthread=None, objective='binary:logistic', random_state=0,\n",
       "       reg_alpha=0, reg_lambda=1, scale_pos_weight=1, seed=None,\n",
       "       silent=True, subsample=1)"
      ]
     },
     "execution_count": 36,
     "metadata": {},
     "output_type": "execute_result"
    }
   ],
   "source": [
    "# fit model no training data\n",
    "model = XGBClassifier()\n",
    "model.fit(X_train, y_train)"
   ]
  },
  {
   "cell_type": "code",
   "execution_count": 47,
   "metadata": {},
   "outputs": [
    {
     "data": {
      "text/plain": [
       "[0.5991744,\n",
       " 0.6267588,\n",
       " 0.8364774,\n",
       " 0.69114876,\n",
       " 0.37504482,\n",
       " 0.19584405,\n",
       " 0.73874867,\n",
       " 0.96032906,\n",
       " 0.96556956,\n",
       " 0.99501175,\n",
       " 0.7833152,\n",
       " 0.96785104,\n",
       " 0.7038095,\n",
       " 0.8364774,\n",
       " 0.73009896,\n",
       " 0.8373921,\n",
       " 0.77640164,\n",
       " 0.10711473,\n",
       " 0.7935166,\n",
       " 0.76240313,\n",
       " 0.2525702,\n",
       " 0.49678504,\n",
       " 0.45231563,\n",
       " 0.8364774,\n",
       " 0.80835223,\n",
       " 0.48545146,\n",
       " 0.6160841,\n",
       " 0.96032906,\n",
       " 0.69242674,\n",
       " 0.5991744,\n",
       " 0.53705597,\n",
       " 0.8729808,\n",
       " 0.800521,\n",
       " 0.70841396,\n",
       " 0.8615718,\n",
       " 0.6478833,\n",
       " 0.84798807,\n",
       " 0.96032906,\n",
       " 0.5118911,\n",
       " 0.8364774,\n",
       " 0.6199169,\n",
       " 0.9170016,\n",
       " 0.9805985,\n",
       " 0.61416787,\n",
       " 0.9441735,\n",
       " 0.800521,\n",
       " 0.46454895,\n",
       " 0.9441735,\n",
       " 0.96032906,\n",
       " 0.90718037,\n",
       " 0.26035666,\n",
       " 0.34353334,\n",
       " 0.9180234,\n",
       " 0.49678504,\n",
       " 0.9165415,\n",
       " 0.8083575,\n",
       " 0.8442588,\n",
       " 0.29397452,\n",
       " 0.7543524,\n",
       " 0.66029114,\n",
       " 0.8364774,\n",
       " 0.9020444,\n",
       " 0.6530843,\n",
       " 0.3730741,\n",
       " 0.9020444,\n",
       " 0.9658686,\n",
       " 0.99241215,\n",
       " 0.8178551,\n",
       " 0.6959973,\n",
       " 0.8364774,\n",
       " 0.7809204,\n",
       " 0.9180234,\n",
       " 0.9110218,\n",
       " 0.8364774,\n",
       " 0.96253717,\n",
       " 0.96785104,\n",
       " 0.9373478,\n",
       " 0.60614073,\n",
       " 0.91508496,\n",
       " 0.29397452,\n",
       " 0.9110218,\n",
       " 0.69114876,\n",
       " 0.6160841,\n",
       " 0.6199169,\n",
       " 0.26035666,\n",
       " 0.85250294,\n",
       " 0.8373921,\n",
       " 0.9628937,\n",
       " 0.8178551,\n",
       " 0.74946153,\n",
       " 0.8364774,\n",
       " 0.97834855,\n",
       " 0.9441735,\n",
       " 0.9616153,\n",
       " 0.8933149,\n",
       " 0.6628537,\n",
       " 0.6531045,\n",
       " 0.770355,\n",
       " 0.9649823,\n",
       " 0.73874867,\n",
       " 0.800521,\n",
       " 0.9663321,\n",
       " 0.801946,\n",
       " 0.6930354,\n",
       " 0.8913408,\n",
       " 0.3709092,\n",
       " 0.8686967,\n",
       " 0.23680252,\n",
       " 0.8364774,\n",
       " 0.9432029,\n",
       " 0.8913408,\n",
       " 0.8364774,\n",
       " 0.8729808,\n",
       " 0.28212684,\n",
       " 0.69114876,\n",
       " 0.88420975,\n",
       " 0.8954127,\n",
       " 0.28212684,\n",
       " 0.12935728,\n",
       " 0.86462605,\n",
       " 0.9663321,\n",
       " 0.7061275,\n",
       " 0.8051653,\n",
       " 0.7873348,\n",
       " 0.69751084,\n",
       " 0.6523148,\n",
       " 0.70406544,\n",
       " 0.7839211,\n",
       " 0.8051653,\n",
       " 0.9597489,\n",
       " 0.6102519,\n",
       " 0.8373921,\n",
       " 0.679899,\n",
       " 0.8364774,\n",
       " 0.70841396,\n",
       " 0.73874867,\n",
       " 0.8373921,\n",
       " 0.9868164,\n",
       " 0.15661478,\n",
       " 0.77698714,\n",
       " 0.3730741,\n",
       " 0.8364774,\n",
       " 0.6160841,\n",
       " 0.8442588,\n",
       " 0.8364774,\n",
       " 0.8954127,\n",
       " 0.9038497,\n",
       " 0.59639525,\n",
       " 0.99292403,\n",
       " 0.800521,\n",
       " 0.8565836,\n",
       " 0.75861764,\n",
       " 0.80989516,\n",
       " 0.9074587,\n",
       " 0.9432029,\n",
       " 0.321046,\n",
       " 0.96216965,\n",
       " 0.800521,\n",
       " 0.34353334,\n",
       " 0.8373921,\n",
       " 0.6530843,\n",
       " 0.96032906,\n",
       " 0.55709636,\n",
       " 0.7906327,\n",
       " 0.9556772,\n",
       " 0.85018605,\n",
       " 0.6160841,\n",
       " 0.53705597,\n",
       " 0.8364774,\n",
       " 0.76240313,\n",
       " 0.8954127,\n",
       " 0.9008658,\n",
       " 0.8364774,\n",
       " 0.6523148,\n",
       " 0.97834855,\n",
       " 0.801946,\n",
       " 0.4416806,\n",
       " 0.77698714,\n",
       " 0.98270863,\n",
       " 0.8364774,\n",
       " 0.96032906,\n",
       " 0.7809204,\n",
       " 0.7061275,\n",
       " 0.96216965,\n",
       " 0.27929586,\n",
       " 0.9597489,\n",
       " 0.9373478,\n",
       " 0.8373921,\n",
       " 0.800521,\n",
       " 0.9597489,\n",
       " 0.27938265,\n",
       " 0.78793144,\n",
       " 0.9616153,\n",
       " 0.96752405,\n",
       " 0.96785104,\n",
       " 0.96216965,\n",
       " 0.8435487,\n",
       " 0.8628968,\n",
       " 0.9125222,\n",
       " 0.91704655]"
      ]
     },
     "execution_count": 47,
     "metadata": {},
     "output_type": "execute_result"
    }
   ],
   "source": [
    "# make predictions for test data\n",
    "y_pred = model.predict_proba(test_df)\n",
    "pred=[]\n",
    "for i in y_pred:\n",
    "    pred.append(i[0])\n",
    "pred"
   ]
  },
  {
   "cell_type": "code",
   "execution_count": 42,
   "metadata": {},
   "outputs": [
    {
     "name": "stdout",
     "output_type": "stream",
     "text": [
      "Log Loss: 0.4896\n"
     ]
    }
   ],
   "source": [
    "ll = log_loss(y_test, model.predict_proba(X_test))\n",
    "print(\"Log Loss: %.4f\" % ll)"
   ]
  },
  {
   "cell_type": "code",
   "execution_count": 48,
   "metadata": {},
   "outputs": [],
   "source": [
    "submission = pd.DataFrame({'': ids, 'Made Donation in March 2007':pred})\n",
    "submission.to_csv('submission_XGBClassifier.csv', index=False)"
   ]
  },
  {
   "cell_type": "code",
   "execution_count": 49,
   "metadata": {},
   "outputs": [],
   "source": [
    "import xgboost as xgb"
   ]
  },
  {
   "cell_type": "code",
   "execution_count": 53,
   "metadata": {},
   "outputs": [
    {
     "name": "stdout",
     "output_type": "stream",
     "text": [
      "191\n",
      "Log Loss: 0.5073\n"
     ]
    }
   ],
   "source": [
    "xgdmat=xgb.DMatrix(X_train,y_train)\n",
    "our_params={'eta':0.1,'seed':0,'subsample':0.8,'colsample_bytree':0.8,'objective':'reg:linear','max_depth':3,'min_child_weight':1}\n",
    "final_gb=xgb.train(our_params,xgdmat)\n",
    "tesdmat=xgb.DMatrix(X_test)\n",
    "y_pred=final_gb.predict(tesdmat)\n",
    "print len(y_pred)\n",
    "ll = log_loss(y_test, y_pred)\n",
    "print(\"Log Loss: %.4f\" % ll)"
   ]
  },
  {
   "cell_type": "code",
   "execution_count": 56,
   "metadata": {},
   "outputs": [
    {
     "name": "stdout",
     "output_type": "stream",
     "text": [
      "200\n"
     ]
    }
   ],
   "source": [
    "tesdmat_test=xgb.DMatrix(test_df)\n",
    "pred=final_gb.predict(tesdmat_test)\n",
    "print len(pred)"
   ]
  },
  {
   "cell_type": "code",
   "execution_count": 57,
   "metadata": {},
   "outputs": [],
   "source": [
    "submission = pd.DataFrame({'': ids, 'Made Donation in March 2007':pred})\n",
    "submission.to_csv('submission_XGBoostRegression.csv', index=False)"
   ]
  }
 ],
 "metadata": {
  "kernelspec": {
   "display_name": "Python 2",
   "language": "python",
   "name": "python2"
  },
  "language_info": {
   "codemirror_mode": {
    "name": "ipython",
    "version": 2
   },
   "file_extension": ".py",
   "mimetype": "text/x-python",
   "name": "python",
   "nbconvert_exporter": "python",
   "pygments_lexer": "ipython2",
   "version": "2.7.15"
  }
 },
 "nbformat": 4,
 "nbformat_minor": 2
}
