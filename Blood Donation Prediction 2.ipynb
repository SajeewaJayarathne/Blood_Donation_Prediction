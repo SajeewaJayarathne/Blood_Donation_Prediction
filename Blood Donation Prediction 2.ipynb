{
 "cells": [
  {
   "cell_type": "code",
   "execution_count": 1,
   "metadata": {},
   "outputs": [
    {
     "name": "stdout",
     "output_type": "stream",
     "text": [
      "test_data - Copy.csv\n",
      "test_data.csv\n",
      "train_features - Copy.csv\n",
      "train_features.csv\n",
      "\n"
     ]
    }
   ],
   "source": [
    "# data analysis and wrangling\n",
    "import pandas as pd\n",
    "import numpy as np\n",
    "import random as rnd\n",
    "\n",
    "# visualization\n",
    "import seaborn as sns\n",
    "import matplotlib.pyplot as plt\n",
    "%matplotlib inline\n",
    "\n",
    "# machine learning\n",
    "from sklearn.linear_model import LogisticRegression\n",
    "from sklearn.linear_model import LinearRegression\n",
    "from sklearn.svm import SVC, LinearSVC\n",
    "from sklearn.ensemble import RandomForestClassifier\n",
    "from sklearn.neighbors import KNeighborsClassifier\n",
    "from sklearn.naive_bayes import GaussianNB\n",
    "from sklearn.linear_model import Perceptron\n",
    "from sklearn.linear_model import SGDClassifier\n",
    "from sklearn.tree import DecisionTreeClassifier\n",
    "\n",
    "from subprocess import check_output\n",
    "print(check_output([\"ls\", \"input\"]).decode(\"utf8\"))"
   ]
  },
  {
   "cell_type": "code",
   "execution_count": 2,
   "metadata": {},
   "outputs": [],
   "source": [
    "train_df = pd.read_csv('input/train_features.csv')\n",
    "test_df = pd.read_csv('input/test_data.csv')\n",
    "combine = [train_df, test_df]"
   ]
  },
  {
   "cell_type": "code",
   "execution_count": 3,
   "metadata": {},
   "outputs": [],
   "source": [
    "train_df.drop(train_df.columns[[0]], axis =1, inplace=True)"
   ]
  },
  {
   "cell_type": "code",
   "execution_count": 4,
   "metadata": {},
   "outputs": [
    {
     "data": {
      "text/html": [
       "<div>\n",
       "<style scoped>\n",
       "    .dataframe tbody tr th:only-of-type {\n",
       "        vertical-align: middle;\n",
       "    }\n",
       "\n",
       "    .dataframe tbody tr th {\n",
       "        vertical-align: top;\n",
       "    }\n",
       "\n",
       "    .dataframe thead th {\n",
       "        text-align: right;\n",
       "    }\n",
       "</style>\n",
       "<table border=\"1\" class=\"dataframe\">\n",
       "  <thead>\n",
       "    <tr style=\"text-align: right;\">\n",
       "      <th></th>\n",
       "      <th>Months since Last Donation</th>\n",
       "      <th>Number of Donations</th>\n",
       "      <th>Total Volume Donated (c.c.)</th>\n",
       "      <th>Months since First Donation</th>\n",
       "      <th>Made Donation in March 2007</th>\n",
       "    </tr>\n",
       "  </thead>\n",
       "  <tbody>\n",
       "    <tr>\n",
       "      <th>0</th>\n",
       "      <td>2</td>\n",
       "      <td>50</td>\n",
       "      <td>12500</td>\n",
       "      <td>98</td>\n",
       "      <td>1</td>\n",
       "    </tr>\n",
       "    <tr>\n",
       "      <th>1</th>\n",
       "      <td>0</td>\n",
       "      <td>13</td>\n",
       "      <td>3250</td>\n",
       "      <td>28</td>\n",
       "      <td>1</td>\n",
       "    </tr>\n",
       "    <tr>\n",
       "      <th>2</th>\n",
       "      <td>1</td>\n",
       "      <td>16</td>\n",
       "      <td>4000</td>\n",
       "      <td>35</td>\n",
       "      <td>1</td>\n",
       "    </tr>\n",
       "    <tr>\n",
       "      <th>3</th>\n",
       "      <td>2</td>\n",
       "      <td>20</td>\n",
       "      <td>5000</td>\n",
       "      <td>45</td>\n",
       "      <td>1</td>\n",
       "    </tr>\n",
       "    <tr>\n",
       "      <th>4</th>\n",
       "      <td>1</td>\n",
       "      <td>24</td>\n",
       "      <td>6000</td>\n",
       "      <td>77</td>\n",
       "      <td>0</td>\n",
       "    </tr>\n",
       "    <tr>\n",
       "      <th>5</th>\n",
       "      <td>4</td>\n",
       "      <td>4</td>\n",
       "      <td>1000</td>\n",
       "      <td>4</td>\n",
       "      <td>0</td>\n",
       "    </tr>\n",
       "    <tr>\n",
       "      <th>6</th>\n",
       "      <td>2</td>\n",
       "      <td>7</td>\n",
       "      <td>1750</td>\n",
       "      <td>14</td>\n",
       "      <td>1</td>\n",
       "    </tr>\n",
       "    <tr>\n",
       "      <th>7</th>\n",
       "      <td>1</td>\n",
       "      <td>12</td>\n",
       "      <td>3000</td>\n",
       "      <td>35</td>\n",
       "      <td>0</td>\n",
       "    </tr>\n",
       "    <tr>\n",
       "      <th>8</th>\n",
       "      <td>5</td>\n",
       "      <td>46</td>\n",
       "      <td>11500</td>\n",
       "      <td>98</td>\n",
       "      <td>1</td>\n",
       "    </tr>\n",
       "    <tr>\n",
       "      <th>9</th>\n",
       "      <td>0</td>\n",
       "      <td>3</td>\n",
       "      <td>750</td>\n",
       "      <td>4</td>\n",
       "      <td>0</td>\n",
       "    </tr>\n",
       "  </tbody>\n",
       "</table>\n",
       "</div>"
      ],
      "text/plain": [
       "   Months since Last Donation  Number of Donations  \\\n",
       "0                           2                   50   \n",
       "1                           0                   13   \n",
       "2                           1                   16   \n",
       "3                           2                   20   \n",
       "4                           1                   24   \n",
       "5                           4                    4   \n",
       "6                           2                    7   \n",
       "7                           1                   12   \n",
       "8                           5                   46   \n",
       "9                           0                    3   \n",
       "\n",
       "   Total Volume Donated (c.c.)  Months since First Donation  \\\n",
       "0                        12500                           98   \n",
       "1                         3250                           28   \n",
       "2                         4000                           35   \n",
       "3                         5000                           45   \n",
       "4                         6000                           77   \n",
       "5                         1000                            4   \n",
       "6                         1750                           14   \n",
       "7                         3000                           35   \n",
       "8                        11500                           98   \n",
       "9                          750                            4   \n",
       "\n",
       "   Made Donation in March 2007  \n",
       "0                            1  \n",
       "1                            1  \n",
       "2                            1  \n",
       "3                            1  \n",
       "4                            0  \n",
       "5                            0  \n",
       "6                            1  \n",
       "7                            0  \n",
       "8                            1  \n",
       "9                            0  "
      ]
     },
     "execution_count": 4,
     "metadata": {},
     "output_type": "execute_result"
    }
   ],
   "source": [
    "train_df.head(10)"
   ]
  },
  {
   "cell_type": "code",
   "execution_count": 5,
   "metadata": {},
   "outputs": [],
   "source": [
    "idNumbers = test_df[test_df.columns[0]]"
   ]
  },
  {
   "cell_type": "code",
   "execution_count": 6,
   "metadata": {},
   "outputs": [
    {
     "name": "stdout",
     "output_type": "stream",
     "text": [
      "0      659\n",
      "1      276\n",
      "2      263\n",
      "3      303\n",
      "4       83\n",
      "5      500\n",
      "6      530\n",
      "7      244\n",
      "8      249\n",
      "9      728\n",
      "10     129\n",
      "11     534\n",
      "12     317\n",
      "13     401\n",
      "14     696\n",
      "15     192\n",
      "16     176\n",
      "17     571\n",
      "18     139\n",
      "19     423\n",
      "20     563\n",
      "21      56\n",
      "22     528\n",
      "23     101\n",
      "24     467\n",
      "25     382\n",
      "26     466\n",
      "27     294\n",
      "28     512\n",
      "29     659\n",
      "      ... \n",
      "170    131\n",
      "171    405\n",
      "172     82\n",
      "173    643\n",
      "174    156\n",
      "175    617\n",
      "176    574\n",
      "177    272\n",
      "178    613\n",
      "179    545\n",
      "180    685\n",
      "181    570\n",
      "182    537\n",
      "183    691\n",
      "184     85\n",
      "185    483\n",
      "186    455\n",
      "187     93\n",
      "188    744\n",
      "189     33\n",
      "190    321\n",
      "191    523\n",
      "192    426\n",
      "193    196\n",
      "194    301\n",
      "195    103\n",
      "196    224\n",
      "197    454\n",
      "198    585\n",
      "199    154\n",
      "Name: Unnamed: 0, Length: 200, dtype: int64\n"
     ]
    }
   ],
   "source": [
    "print (idNumbers)"
   ]
  },
  {
   "cell_type": "code",
   "execution_count": 7,
   "metadata": {},
   "outputs": [],
   "source": [
    "test_df.drop(test_df.columns[[0]], axis =1, inplace=True)"
   ]
  },
  {
   "cell_type": "code",
   "execution_count": 8,
   "metadata": {},
   "outputs": [
    {
     "data": {
      "text/plain": [
       "(200, 4)"
      ]
     },
     "execution_count": 8,
     "metadata": {},
     "output_type": "execute_result"
    }
   ],
   "source": [
    "test_df.shape"
   ]
  },
  {
   "cell_type": "code",
   "execution_count": 9,
   "metadata": {},
   "outputs": [
    {
     "name": "stdout",
     "output_type": "stream",
     "text": [
      "('Train columns with null values:\\n', Months since Last Donation     0\n",
      "Number of Donations            0\n",
      "Total Volume Donated (c.c.)    0\n",
      "Months since First Donation    0\n",
      "Made Donation in March 2007    0\n",
      "dtype: int64)\n",
      "--------------------------------------------------\n",
      "('Test columns with null values:\\n', Months since Last Donation     0\n",
      "Number of Donations            0\n",
      "Total Volume Donated (c.c.)    0\n",
      "Months since First Donation    0\n",
      "dtype: int64)\n"
     ]
    }
   ],
   "source": [
    "print('Train columns with null values:\\n', train_df.isnull().sum())\n",
    "print(\"-\"*50)\n",
    "print('Test columns with null values:\\n', test_df.isnull().sum())"
   ]
  },
  {
   "cell_type": "code",
   "execution_count": 12,
   "metadata": {},
   "outputs": [
    {
     "data": {
      "text/plain": [
       "((576, 4), (576,), (200, 4))"
      ]
     },
     "execution_count": 12,
     "metadata": {},
     "output_type": "execute_result"
    }
   ],
   "source": [
    "X_train = train_df.drop(\"Made Donation in March 2007\", axis=1)\n",
    "Y_train = train_df[\"Made Donation in March 2007\"]\n",
    "X_test  = test_df.copy()\n",
    "X_train.shape, Y_train.shape, X_test.shape"
   ]
  },
  {
   "cell_type": "code",
   "execution_count": 36,
   "metadata": {},
   "outputs": [
    {
     "ename": "AttributeError",
     "evalue": "'Perceptron' object has no attribute 'predict_proba'",
     "output_type": "error",
     "traceback": [
      "\u001b[0;31m---------------------------------------------------------------------------\u001b[0m",
      "\u001b[0;31mAttributeError\u001b[0m                            Traceback (most recent call last)",
      "\u001b[0;32m<ipython-input-36-8707b2dd1051>\u001b[0m in \u001b[0;36m<module>\u001b[0;34m()\u001b[0m\n\u001b[1;32m      3\u001b[0m \u001b[0mperceptron\u001b[0m \u001b[0;34m=\u001b[0m \u001b[0mPerceptron\u001b[0m\u001b[0;34m(\u001b[0m\u001b[0;34m)\u001b[0m\u001b[0;34m\u001b[0m\u001b[0m\n\u001b[1;32m      4\u001b[0m \u001b[0mperceptron\u001b[0m\u001b[0;34m.\u001b[0m\u001b[0mfit\u001b[0m\u001b[0;34m(\u001b[0m\u001b[0mX_train\u001b[0m\u001b[0;34m,\u001b[0m \u001b[0mY_train\u001b[0m\u001b[0;34m)\u001b[0m\u001b[0;34m\u001b[0m\u001b[0m\n\u001b[0;32m----> 5\u001b[0;31m \u001b[0mY_pred\u001b[0m \u001b[0;34m=\u001b[0m \u001b[0mperceptron\u001b[0m\u001b[0;34m.\u001b[0m\u001b[0mpredict_proba\u001b[0m\u001b[0;34m(\u001b[0m\u001b[0mX_test\u001b[0m\u001b[0;34m)\u001b[0m\u001b[0;34m.\u001b[0m\u001b[0mround\u001b[0m\u001b[0;34m(\u001b[0m\u001b[0mdecimals\u001b[0m\u001b[0;34m=\u001b[0m\u001b[0;36m2\u001b[0m\u001b[0;34m)\u001b[0m\u001b[0;34m\u001b[0m\u001b[0m\n\u001b[0m\u001b[1;32m      6\u001b[0m \u001b[0macc_perceptron\u001b[0m \u001b[0;34m=\u001b[0m \u001b[0mround\u001b[0m\u001b[0;34m(\u001b[0m\u001b[0mperceptron\u001b[0m\u001b[0;34m.\u001b[0m\u001b[0mscore\u001b[0m\u001b[0;34m(\u001b[0m\u001b[0mX_train\u001b[0m\u001b[0;34m,\u001b[0m \u001b[0mY_train\u001b[0m\u001b[0;34m)\u001b[0m \u001b[0;34m*\u001b[0m \u001b[0;36m100\u001b[0m\u001b[0;34m,\u001b[0m \u001b[0;36m2\u001b[0m\u001b[0;34m)\u001b[0m\u001b[0;34m\u001b[0m\u001b[0m\n\u001b[1;32m      7\u001b[0m \u001b[0macc_perceptron\u001b[0m\u001b[0;34m\u001b[0m\u001b[0m\n",
      "\u001b[0;31mAttributeError\u001b[0m: 'Perceptron' object has no attribute 'predict_proba'"
     ]
    }
   ],
   "source": [
    "# Perceptron\n",
    "\n",
    "perceptron = Perceptron()\n",
    "perceptron.fit(X_train, Y_train)\n",
    "Y_pred = perceptron.predict_proba(X_test).round(decimals=2)\n",
    "acc_perceptron = round(perceptron.score(X_train, Y_train) * 100, 2)\n",
    "acc_perceptron"
   ]
  },
  {
   "cell_type": "code",
   "execution_count": 14,
   "metadata": {},
   "outputs": [
    {
     "data": {
      "text/plain": [
       "76.04"
      ]
     },
     "execution_count": 14,
     "metadata": {},
     "output_type": "execute_result"
    }
   ],
   "source": [
    "# Linear SVC\n",
    "\n",
    "linear_svc = LinearSVC()\n",
    "linear_svc.fit(X_train, Y_train)\n",
    "Y_pred = linear_svc.predict(X_test)\n",
    "acc_linear_svc = round(linear_svc.score(X_train, Y_train) * 100, 2)\n",
    "acc_linear_svc"
   ]
  },
  {
   "cell_type": "code",
   "execution_count": 15,
   "metadata": {},
   "outputs": [
    {
     "name": "stderr",
     "output_type": "stream",
     "text": [
      "/home/sajeewa/anaconda2/lib/python2.7/site-packages/sklearn/linear_model/stochastic_gradient.py:128: FutureWarning: max_iter and tol parameters have been added in <class 'sklearn.linear_model.stochastic_gradient.SGDClassifier'> in 0.19. If both are left unset, they default to max_iter=5 and tol=None. If tol is not None, max_iter defaults to max_iter=1000. From 0.21, default max_iter will be 1000, and default tol will be 1e-3.\n",
      "  \"and default tol will be 1e-3.\" % type(self), FutureWarning)\n"
     ]
    },
    {
     "data": {
      "text/plain": [
       "64.06"
      ]
     },
     "execution_count": 15,
     "metadata": {},
     "output_type": "execute_result"
    }
   ],
   "source": [
    "# Stochastic Gradient Descent\n",
    "\n",
    "sgd = SGDClassifier()\n",
    "sgd.fit(X_train, Y_train)\n",
    "Y_pred = sgd.predict(X_test)\n",
    "acc_sgd = round(sgd.score(X_train, Y_train) * 100, 2)\n",
    "acc_sgd"
   ]
  },
  {
   "cell_type": "code",
   "execution_count": 16,
   "metadata": {},
   "outputs": [
    {
     "data": {
      "text/plain": [
       "93.75"
      ]
     },
     "execution_count": 16,
     "metadata": {},
     "output_type": "execute_result"
    }
   ],
   "source": [
    "# Decision Tree\n",
    "\n",
    "decision_tree = DecisionTreeClassifier()\n",
    "decision_tree.fit(X_train, Y_train)\n",
    "Y_pred = decision_tree.predict(X_test)\n",
    "acc_decision_tree = round(decision_tree.score(X_train, Y_train) * 100, 2)\n",
    "acc_decision_tree"
   ]
  },
  {
   "cell_type": "code",
   "execution_count": 17,
   "metadata": {},
   "outputs": [
    {
     "data": {
      "text/plain": [
       "11.66"
      ]
     },
     "execution_count": 17,
     "metadata": {},
     "output_type": "execute_result"
    }
   ],
   "source": [
    "linreg = LinearRegression()\n",
    "linreg.fit(X_train, Y_train)\n",
    "Y_pred = linreg.predict(X_test).round(decimals=2)\n",
    "acc_lin = round(linreg.score(X_train, Y_train) * 100, 2)\n",
    "acc_lin"
   ]
  },
  {
   "cell_type": "code",
   "execution_count": 18,
   "metadata": {},
   "outputs": [
    {
     "data": {
      "text/plain": [
       "91.15"
      ]
     },
     "execution_count": 18,
     "metadata": {},
     "output_type": "execute_result"
    }
   ],
   "source": [
    "# Support Vector Machines\n",
    "\n",
    "svc = SVC()\n",
    "svc.fit(X_train, Y_train)\n",
    "Y_pred = svc.predict(X_test)\n",
    "acc_svc = round(svc.score(X_train, Y_train) * 100, 2)\n",
    "acc_svc"
   ]
  },
  {
   "cell_type": "code",
   "execution_count": 19,
   "metadata": {},
   "outputs": [
    {
     "data": {
      "text/plain": [
       "83.33"
      ]
     },
     "execution_count": 19,
     "metadata": {},
     "output_type": "execute_result"
    }
   ],
   "source": [
    "knn = KNeighborsClassifier(n_neighbors = 3)\n",
    "knn.fit(X_train, Y_train)\n",
    "Y_pred = knn.predict(X_test).round(decimals=2)\n",
    "acc_knn = round(knn.score(X_train, Y_train) * 100, 2)\n",
    "acc_knn"
   ]
  },
  {
   "cell_type": "code",
   "execution_count": 21,
   "metadata": {},
   "outputs": [
    {
     "data": {
      "text/plain": [
       "76.39"
      ]
     },
     "execution_count": 21,
     "metadata": {},
     "output_type": "execute_result"
    }
   ],
   "source": [
    "logreg = LogisticRegression()\n",
    "logreg.fit(X_train, Y_train)\n",
    "Y_pred = logreg.predict(X_test).round(decimals=2)\n",
    "acc_log = round(logreg.score(X_train, Y_train) * 100, 2)\n",
    "acc_log"
   ]
  },
  {
   "cell_type": "code",
   "execution_count": 22,
   "metadata": {},
   "outputs": [
    {
     "data": {
      "text/html": [
       "<div>\n",
       "<style scoped>\n",
       "    .dataframe tbody tr th:only-of-type {\n",
       "        vertical-align: middle;\n",
       "    }\n",
       "\n",
       "    .dataframe tbody tr th {\n",
       "        vertical-align: top;\n",
       "    }\n",
       "\n",
       "    .dataframe thead th {\n",
       "        text-align: right;\n",
       "    }\n",
       "</style>\n",
       "<table border=\"1\" class=\"dataframe\">\n",
       "  <thead>\n",
       "    <tr style=\"text-align: right;\">\n",
       "      <th></th>\n",
       "      <th>Feature</th>\n",
       "      <th>Correlation</th>\n",
       "    </tr>\n",
       "  </thead>\n",
       "  <tbody>\n",
       "    <tr>\n",
       "      <th>2</th>\n",
       "      <td>Total Volume Donated (c.c.)</td>\n",
       "      <td>0.000516</td>\n",
       "    </tr>\n",
       "    <tr>\n",
       "      <th>1</th>\n",
       "      <td>Number of Donations</td>\n",
       "      <td>0.000002</td>\n",
       "    </tr>\n",
       "    <tr>\n",
       "      <th>3</th>\n",
       "      <td>Months since First Donation</td>\n",
       "      <td>-0.018972</td>\n",
       "    </tr>\n",
       "    <tr>\n",
       "      <th>0</th>\n",
       "      <td>Months since Last Donation</td>\n",
       "      <td>-0.092061</td>\n",
       "    </tr>\n",
       "  </tbody>\n",
       "</table>\n",
       "</div>"
      ],
      "text/plain": [
       "                       Feature  Correlation\n",
       "2  Total Volume Donated (c.c.)     0.000516\n",
       "1          Number of Donations     0.000002\n",
       "3  Months since First Donation    -0.018972\n",
       "0   Months since Last Donation    -0.092061"
      ]
     },
     "execution_count": 22,
     "metadata": {},
     "output_type": "execute_result"
    }
   ],
   "source": [
    "coeff_df = pd.DataFrame(train_df.columns.delete(4))\n",
    "coeff_df.columns = ['Feature']\n",
    "coeff_df[\"Correlation\"] = pd.Series(logreg.coef_[0])\n",
    "\n",
    "coeff_df.sort_values(by='Correlation', ascending=False)"
   ]
  },
  {
   "cell_type": "code",
   "execution_count": 23,
   "metadata": {},
   "outputs": [
    {
     "data": {
      "text/plain": [
       "74.65"
      ]
     },
     "execution_count": 23,
     "metadata": {},
     "output_type": "execute_result"
    }
   ],
   "source": [
    "# Gaussian Naive Bayes\n",
    "\n",
    "gaussian = GaussianNB()\n",
    "gaussian.fit(X_train, Y_train)\n",
    "Y_pred = gaussian.predict(X_test).round(decimals=2)\n",
    "acc_gaussian = round(gaussian.score(X_train, Y_train) * 100, 2)\n",
    "acc_gaussian"
   ]
  },
  {
   "cell_type": "code",
   "execution_count": 24,
   "metadata": {},
   "outputs": [
    {
     "data": {
      "text/plain": [
       "93.58"
      ]
     },
     "execution_count": 24,
     "metadata": {},
     "output_type": "execute_result"
    }
   ],
   "source": [
    "# Random Forest\n",
    "\n",
    "random_forest = RandomForestClassifier(n_estimators=100)\n",
    "random_forest.fit(X_train, Y_train)\n",
    "Y_pred = random_forest.predict_proba(X_test).round(decimals=2)\n",
    "random_forest.score(X_train, Y_train)\n",
    "acc_random_forest = round(random_forest.score(X_train, Y_train) * 100, 2)\n",
    "acc_random_forest"
   ]
  },
  {
   "cell_type": "code",
   "execution_count": 34,
   "metadata": {},
   "outputs": [
    {
     "data": {
      "text/html": [
       "<div>\n",
       "<style scoped>\n",
       "    .dataframe tbody tr th:only-of-type {\n",
       "        vertical-align: middle;\n",
       "    }\n",
       "\n",
       "    .dataframe tbody tr th {\n",
       "        vertical-align: top;\n",
       "    }\n",
       "\n",
       "    .dataframe thead th {\n",
       "        text-align: right;\n",
       "    }\n",
       "</style>\n",
       "<table border=\"1\" class=\"dataframe\">\n",
       "  <thead>\n",
       "    <tr style=\"text-align: right;\">\n",
       "      <th></th>\n",
       "      <th>Model</th>\n",
       "      <th>Score</th>\n",
       "    </tr>\n",
       "  </thead>\n",
       "  <tbody>\n",
       "    <tr>\n",
       "      <th>9</th>\n",
       "      <td>Decision Tree</td>\n",
       "      <td>93.75</td>\n",
       "    </tr>\n",
       "    <tr>\n",
       "      <th>4</th>\n",
       "      <td>Random Forest</td>\n",
       "      <td>93.58</td>\n",
       "    </tr>\n",
       "    <tr>\n",
       "      <th>0</th>\n",
       "      <td>Support Vector Machines</td>\n",
       "      <td>91.15</td>\n",
       "    </tr>\n",
       "    <tr>\n",
       "      <th>1</th>\n",
       "      <td>KNN</td>\n",
       "      <td>83.33</td>\n",
       "    </tr>\n",
       "    <tr>\n",
       "      <th>2</th>\n",
       "      <td>Logistic Regression</td>\n",
       "      <td>76.39</td>\n",
       "    </tr>\n",
       "    <tr>\n",
       "      <th>8</th>\n",
       "      <td>Linear SVC</td>\n",
       "      <td>76.04</td>\n",
       "    </tr>\n",
       "    <tr>\n",
       "      <th>5</th>\n",
       "      <td>Naive Bayes</td>\n",
       "      <td>74.65</td>\n",
       "    </tr>\n",
       "    <tr>\n",
       "      <th>6</th>\n",
       "      <td>Perceptron</td>\n",
       "      <td>64.06</td>\n",
       "    </tr>\n",
       "    <tr>\n",
       "      <th>7</th>\n",
       "      <td>Stochastic Gradient Decent</td>\n",
       "      <td>64.06</td>\n",
       "    </tr>\n",
       "    <tr>\n",
       "      <th>3</th>\n",
       "      <td>Linear Regression</td>\n",
       "      <td>11.66</td>\n",
       "    </tr>\n",
       "  </tbody>\n",
       "</table>\n",
       "</div>"
      ],
      "text/plain": [
       "                        Model  Score\n",
       "9               Decision Tree  93.75\n",
       "4               Random Forest  93.58\n",
       "0     Support Vector Machines  91.15\n",
       "1                         KNN  83.33\n",
       "2         Logistic Regression  76.39\n",
       "8                  Linear SVC  76.04\n",
       "5                 Naive Bayes  74.65\n",
       "6                  Perceptron  64.06\n",
       "7  Stochastic Gradient Decent  64.06\n",
       "3           Linear Regression  11.66"
      ]
     },
     "execution_count": 34,
     "metadata": {},
     "output_type": "execute_result"
    }
   ],
   "source": [
    "models = pd.DataFrame({\n",
    "    'Model': ['Support Vector Machines', 'KNN', 'Logistic Regression', 'Linear Regression',\n",
    "              'Random Forest', 'Naive Bayes', 'Perceptron', \n",
    "              'Stochastic Gradient Decent', 'Linear SVC', \n",
    "              'Decision Tree'],\n",
    "    'Score': [acc_svc, acc_knn, acc_log, acc_lin,\n",
    "              acc_random_forest, acc_gaussian, acc_perceptron, \n",
    "              acc_sgd, acc_linear_svc, acc_decision_tree]})\n",
    "models.sort_values(by='Score', ascending=False)"
   ]
  },
  {
   "cell_type": "code",
   "execution_count": 28,
   "metadata": {},
   "outputs": [
    {
     "name": "stdout",
     "output_type": "stream",
     "text": [
      "[[0.25 0.75]\n",
      " [0.9  0.1 ]\n",
      " [0.92 0.08]\n",
      " [0.91 0.09]\n",
      " [0.69 0.31]\n",
      " [0.14 0.86]\n",
      " [0.66 0.34]\n",
      " [1.   0.  ]\n",
      " [1.   0.  ]\n",
      " [1.   0.  ]\n",
      " [0.17 0.83]\n",
      " [0.99 0.01]\n",
      " [0.86 0.14]\n",
      " [0.92 0.08]\n",
      " [0.24 0.76]\n",
      " [0.79 0.21]\n",
      " [0.99 0.01]\n",
      " [0.48 0.52]\n",
      " [0.76 0.24]\n",
      " [0.87 0.13]\n",
      " [0.04 0.96]\n",
      " [0.48 0.52]\n",
      " [0.6  0.4 ]\n",
      " [0.92 0.08]\n",
      " [0.94 0.06]\n",
      " [0.86 0.14]\n",
      " [0.57 0.43]\n",
      " [1.   0.  ]\n",
      " [0.96 0.04]\n",
      " [0.25 0.75]\n",
      " [0.84 0.16]\n",
      " [0.64 0.36]\n",
      " [0.82 0.18]\n",
      " [0.94 0.06]\n",
      " [0.87 0.13]\n",
      " [1.   0.  ]\n",
      " [0.91 0.09]\n",
      " [1.   0.  ]\n",
      " [0.74 0.26]\n",
      " [0.92 0.08]\n",
      " [0.51 0.49]\n",
      " [0.36 0.64]\n",
      " [0.94 0.06]\n",
      " [0.83 0.17]\n",
      " [0.98 0.02]\n",
      " [0.82 0.18]\n",
      " [0.66 0.34]\n",
      " [0.97 0.03]\n",
      " [1.   0.  ]\n",
      " [0.91 0.09]\n",
      " [0.54 0.46]\n",
      " [0.34 0.66]\n",
      " [0.67 0.33]\n",
      " [0.12 0.88]\n",
      " [0.98 0.02]\n",
      " [0.75 0.25]\n",
      " [0.86 0.14]\n",
      " [0.05 0.95]\n",
      " [0.92 0.08]\n",
      " [0.73 0.27]\n",
      " [0.92 0.08]\n",
      " [0.75 0.25]\n",
      " [0.77 0.23]\n",
      " [0.35 0.65]\n",
      " [0.75 0.25]\n",
      " [0.97 0.03]\n",
      " [0.93 0.07]\n",
      " [0.86 0.14]\n",
      " [0.66 0.34]\n",
      " [0.92 0.08]\n",
      " [0.84 0.16]\n",
      " [0.83 0.17]\n",
      " [0.93 0.07]\n",
      " [0.92 0.08]\n",
      " [0.99 0.01]\n",
      " [0.99 0.01]\n",
      " [0.91 0.09]\n",
      " [0.76 0.24]\n",
      " [0.97 0.03]\n",
      " [0.05 0.95]\n",
      " [0.93 0.07]\n",
      " [0.91 0.09]\n",
      " [0.57 0.43]\n",
      " [0.51 0.49]\n",
      " [0.54 0.46]\n",
      " [0.93 0.07]\n",
      " [0.79 0.21]\n",
      " [0.97 0.03]\n",
      " [0.86 0.14]\n",
      " [0.91 0.09]\n",
      " [0.92 0.08]\n",
      " [0.52 0.48]\n",
      " [0.98 0.02]\n",
      " [0.98 0.02]\n",
      " [0.85 0.15]\n",
      " [0.65 0.35]\n",
      " [0.7  0.3 ]\n",
      " [0.78 0.22]\n",
      " [0.95 0.05]\n",
      " [0.66 0.34]\n",
      " [0.82 0.18]\n",
      " [0.96 0.04]\n",
      " [1.   0.  ]\n",
      " [0.65 0.35]\n",
      " [0.96 0.04]\n",
      " [0.43 0.57]\n",
      " [0.96 0.04]\n",
      " [0.3  0.7 ]\n",
      " [0.92 0.08]\n",
      " [0.92 0.08]\n",
      " [0.99 0.01]\n",
      " [0.92 0.08]\n",
      " [0.64 0.36]\n",
      " [0.09 0.91]\n",
      " [0.91 0.09]\n",
      " [0.98 0.02]\n",
      " [0.92 0.08]\n",
      " [0.36 0.64]\n",
      " [0.36 0.64]\n",
      " [1.   0.  ]\n",
      " [0.96 0.04]\n",
      " [0.47 0.53]\n",
      " [0.92 0.08]\n",
      " [0.72 0.28]\n",
      " [0.66 0.34]\n",
      " [0.81 0.19]\n",
      " [0.89 0.11]\n",
      " [0.99 0.01]\n",
      " [0.92 0.08]\n",
      " [0.82 0.18]\n",
      " [0.75 0.25]\n",
      " [0.79 0.21]\n",
      " [0.79 0.21]\n",
      " [0.92 0.08]\n",
      " [0.94 0.06]\n",
      " [0.66 0.34]\n",
      " [0.79 0.21]\n",
      " [0.93 0.07]\n",
      " [0.45 0.55]\n",
      " [0.62 0.38]\n",
      " [0.3  0.7 ]\n",
      " [0.92 0.08]\n",
      " [0.57 0.43]\n",
      " [0.86 0.14]\n",
      " [0.92 0.08]\n",
      " [0.92 0.08]\n",
      " [1.   0.  ]\n",
      " [0.63 0.37]\n",
      " [1.   0.  ]\n",
      " [0.82 0.18]\n",
      " [0.98 0.02]\n",
      " [0.72 0.28]\n",
      " [0.98 0.02]\n",
      " [0.46 0.54]\n",
      " [0.63 0.37]\n",
      " [0.79 0.21]\n",
      " [1.   0.  ]\n",
      " [0.82 0.18]\n",
      " [0.34 0.66]\n",
      " [0.79 0.21]\n",
      " [0.77 0.23]\n",
      " [1.   0.  ]\n",
      " [0.79 0.21]\n",
      " [0.73 0.27]\n",
      " [0.76 0.24]\n",
      " [0.97 0.03]\n",
      " [0.57 0.43]\n",
      " [0.84 0.16]\n",
      " [0.92 0.08]\n",
      " [0.87 0.13]\n",
      " [0.92 0.08]\n",
      " [0.92 0.08]\n",
      " [0.92 0.08]\n",
      " [0.39 0.61]\n",
      " [0.52 0.48]\n",
      " [1.   0.  ]\n",
      " [0.64 0.36]\n",
      " [0.79 0.21]\n",
      " [0.96 0.04]\n",
      " [0.92 0.08]\n",
      " [1.   0.  ]\n",
      " [0.88 0.12]\n",
      " [0.47 0.53]\n",
      " [1.   0.  ]\n",
      " [0.68 0.32]\n",
      " [0.82 0.18]\n",
      " [0.91 0.09]\n",
      " [0.79 0.21]\n",
      " [0.82 0.18]\n",
      " [0.82 0.18]\n",
      " [0.2  0.8 ]\n",
      " [0.63 0.37]\n",
      " [0.98 0.02]\n",
      " [0.76 0.24]\n",
      " [0.99 0.01]\n",
      " [1.   0.  ]\n",
      " [0.98 0.02]\n",
      " [0.9  0.1 ]\n",
      " [1.   0.  ]\n",
      " [0.94 0.06]]\n"
     ]
    }
   ],
   "source": [
    "print(Y_pred)"
   ]
  },
  {
   "cell_type": "code",
   "execution_count": 30,
   "metadata": {},
   "outputs": [],
   "source": [
    "predicted_result = []\n",
    "for i in Y_pred:\n",
    "    predicted_result.append(i[1])"
   ]
  },
  {
   "cell_type": "code",
   "execution_count": 31,
   "metadata": {},
   "outputs": [
    {
     "name": "stdout",
     "output_type": "stream",
     "text": [
      "[0.75, 0.1, 0.08, 0.09, 0.31, 0.86, 0.34, 0.0, 0.0, 0.0, 0.83, 0.01, 0.14, 0.08, 0.76, 0.21, 0.01, 0.52, 0.24, 0.13, 0.96, 0.52, 0.4, 0.08, 0.06, 0.14, 0.43, 0.0, 0.04, 0.75, 0.16, 0.36, 0.18, 0.06, 0.13, 0.0, 0.09, 0.0, 0.26, 0.08, 0.49, 0.64, 0.06, 0.17, 0.02, 0.18, 0.34, 0.03, 0.0, 0.09, 0.46, 0.66, 0.33, 0.88, 0.02, 0.25, 0.14, 0.95, 0.08, 0.27, 0.08, 0.25, 0.23, 0.65, 0.25, 0.03, 0.07, 0.14, 0.34, 0.08, 0.16, 0.17, 0.07, 0.08, 0.01, 0.01, 0.09, 0.24, 0.03, 0.95, 0.07, 0.09, 0.43, 0.49, 0.46, 0.07, 0.21, 0.03, 0.14, 0.09, 0.08, 0.48, 0.02, 0.02, 0.15, 0.35, 0.3, 0.22, 0.05, 0.34, 0.18, 0.04, 0.0, 0.35, 0.04, 0.57, 0.04, 0.7, 0.08, 0.08, 0.01, 0.08, 0.36, 0.91, 0.09, 0.02, 0.08, 0.64, 0.64, 0.0, 0.04, 0.53, 0.08, 0.28, 0.34, 0.19, 0.11, 0.01, 0.08, 0.18, 0.25, 0.21, 0.21, 0.08, 0.06, 0.34, 0.21, 0.07, 0.55, 0.38, 0.7, 0.08, 0.43, 0.14, 0.08, 0.08, 0.0, 0.37, 0.0, 0.18, 0.02, 0.28, 0.02, 0.54, 0.37, 0.21, 0.0, 0.18, 0.66, 0.21, 0.23, 0.0, 0.21, 0.27, 0.24, 0.03, 0.43, 0.16, 0.08, 0.13, 0.08, 0.08, 0.08, 0.61, 0.48, 0.0, 0.36, 0.21, 0.04, 0.08, 0.0, 0.12, 0.53, 0.0, 0.32, 0.18, 0.09, 0.21, 0.18, 0.18, 0.8, 0.37, 0.02, 0.24, 0.01, 0.0, 0.02, 0.1, 0.0, 0.06]\n"
     ]
    }
   ],
   "source": [
    "print(predicted_result)"
   ]
  },
  {
   "cell_type": "code",
   "execution_count": 32,
   "metadata": {},
   "outputs": [],
   "source": [
    "submission = pd.DataFrame({\n",
    "        \"\": idNumbers,\n",
    "        \"Made Donation in March 2007\": predicted_result\n",
    "    })\n",
    "submission.to_csv('output/submission-random-forest.csv', index=False)"
   ]
  },
  {
   "cell_type": "code",
   "execution_count": null,
   "metadata": {},
   "outputs": [],
   "source": []
  }
 ],
 "metadata": {
  "kernelspec": {
   "display_name": "Python 2",
   "language": "python",
   "name": "python2"
  },
  "language_info": {
   "codemirror_mode": {
    "name": "ipython",
    "version": 2
   },
   "file_extension": ".py",
   "mimetype": "text/x-python",
   "name": "python",
   "nbconvert_exporter": "python",
   "pygments_lexer": "ipython2",
   "version": "2.7.15"
  }
 },
 "nbformat": 4,
 "nbformat_minor": 2
}
