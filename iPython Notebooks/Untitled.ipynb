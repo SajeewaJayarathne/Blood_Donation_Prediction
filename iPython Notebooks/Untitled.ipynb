{
 "cells": [
  {
   "cell_type": "code",
   "execution_count": 12,
   "metadata": {},
   "outputs": [],
   "source": [
    "# data analysis and wrangling\n",
    "import pandas as pd\n",
    "import numpy as np\n",
    "import random as rnd\n",
    "\n",
    "# visualization\n",
    "import seaborn as sns\n",
    "import matplotlib.pyplot as plt\n",
    "%matplotlib inline\n",
    "\n",
    "# machine learning\n",
    "from sklearn.linear_model import LogisticRegression\n",
    "from sklearn.linear_model import LinearRegression\n",
    "from sklearn.svm import SVC, LinearSVC\n",
    "from sklearn.ensemble import RandomForestClassifier\n",
    "from sklearn.neighbors import KNeighborsClassifier\n",
    "from sklearn.naive_bayes import GaussianNB\n",
    "from sklearn.linear_model import Perceptron\n",
    "from sklearn.linear_model import SGDClassifier\n",
    "from sklearn.tree import DecisionTreeClassifier\n",
    "from sklearn.calibration import CalibratedClassifierCV\n"
   ]
  },
  {
   "cell_type": "code",
   "execution_count": 13,
   "metadata": {},
   "outputs": [],
   "source": [
    "train_df = pd.read_csv('input/train_features.csv')\n",
    "test_df = pd.read_csv('input/test_data.csv')\n",
    "combine = [train_df, test_df]"
   ]
  },
  {
   "cell_type": "code",
   "execution_count": 14,
   "metadata": {},
   "outputs": [],
   "source": [
    "train_df.drop(train_df.columns[[0]], axis =1, inplace=True)\n",
    "idNumbers = test_df[test_df.columns[0]]\n",
    "test_df.drop(test_df.columns[[0]], axis =1, inplace=True)"
   ]
  },
  {
   "cell_type": "code",
   "execution_count": 15,
   "metadata": {},
   "outputs": [
    {
     "data": {
      "text/plain": [
       "((576, 4), (576,), (200, 4))"
      ]
     },
     "execution_count": 15,
     "metadata": {},
     "output_type": "execute_result"
    }
   ],
   "source": [
    "X_train = train_df.drop(\"Made Donation in March 2007\", axis=1)\n",
    "Y_train = train_df[\"Made Donation in March 2007\"]\n",
    "X_test  = test_df.copy()\n",
    "X_train.shape, Y_train.shape, X_test.shape"
   ]
  },
  {
   "cell_type": "code",
   "execution_count": 28,
   "metadata": {},
   "outputs": [],
   "source": [
    "perceptron = Perceptron()\n",
    "clf_isotonic = CalibratedClassifierCV(perceptron, cv=10, method='isotonic')\n",
    "clf_isotonic.fit(X_train, Y_train)\n",
    "Y_pred = clf_isotonic.predict_proba(X_test).round(decimals=2)"
   ]
  },
  {
   "cell_type": "code",
   "execution_count": 29,
   "metadata": {},
   "outputs": [],
   "source": [
    "predicted_result = []\n",
    "for i in Y_pred:\n",
    "    predicted_result.append(i[1])"
   ]
  },
  {
   "cell_type": "code",
   "execution_count": 30,
   "metadata": {},
   "outputs": [],
   "source": [
    "submission = pd.DataFrame({\n",
    "        \"\": idNumbers,\n",
    "        \"Made Donation in March 2007\": predicted_result\n",
    "    })\n",
    "submission.to_csv('output/probability/submission-perceptron.csv', index=False)"
   ]
  },
  {
   "cell_type": "code",
   "execution_count": 31,
   "metadata": {},
   "outputs": [],
   "source": [
    "decision_tree = DecisionTreeClassifier()\n",
    "clf_isotonic = CalibratedClassifierCV(decision_tree, cv=10, method='isotonic')\n",
    "clf_isotonic.fit(X_train, Y_train)\n",
    "Y_pred = clf_isotonic.predict_proba(X_test).round(decimals=2)"
   ]
  },
  {
   "cell_type": "code",
   "execution_count": 32,
   "metadata": {},
   "outputs": [],
   "source": [
    "predicted_result_dec_tree = []\n",
    "for i in Y_pred:\n",
    "    predicted_result_dec_tree.append(i[1])"
   ]
  },
  {
   "cell_type": "code",
   "execution_count": 33,
   "metadata": {},
   "outputs": [],
   "source": [
    "submission = pd.DataFrame({\n",
    "        \"\": idNumbers,\n",
    "        \"Made Donation in March 2007\": predicted_result_dec_tree\n",
    "    })\n",
    "submission.to_csv('output/probability/submission-decision-tree.csv', index=False)"
   ]
  },
  {
   "cell_type": "code",
   "execution_count": 34,
   "metadata": {},
   "outputs": [],
   "source": [
    "logreg = LogisticRegression()\n",
    "clf_isotonic = CalibratedClassifierCV(logreg, cv=10, method='isotonic')\n",
    "clf_isotonic.fit(X_train, Y_train)\n",
    "Y_pred = clf_isotonic.predict_proba(X_test).round(decimals=2)"
   ]
  },
  {
   "cell_type": "code",
   "execution_count": 35,
   "metadata": {},
   "outputs": [],
   "source": [
    "predicted_result_log_reg = []\n",
    "for i in Y_pred:\n",
    "    predicted_result_log_reg.append(i[1])"
   ]
  },
  {
   "cell_type": "code",
   "execution_count": 36,
   "metadata": {},
   "outputs": [],
   "source": [
    "submission = pd.DataFrame({\n",
    "        \"\": idNumbers,\n",
    "        \"Made Donation in March 2007\": predicted_result_log_reg\n",
    "    })\n",
    "submission.to_csv('output/probability/submission-log-reg.csv', index=False)"
   ]
  },
  {
   "cell_type": "code",
   "execution_count": null,
   "metadata": {},
   "outputs": [],
   "source": []
  }
 ],
 "metadata": {
  "kernelspec": {
   "display_name": "Python 2",
   "language": "python",
   "name": "python2"
  },
  "language_info": {
   "codemirror_mode": {
    "name": "ipython",
    "version": 2
   },
   "file_extension": ".py",
   "mimetype": "text/x-python",
   "name": "python",
   "nbconvert_exporter": "python",
   "pygments_lexer": "ipython2",
   "version": "2.7.15"
  }
 },
 "nbformat": 4,
 "nbformat_minor": 2
}
